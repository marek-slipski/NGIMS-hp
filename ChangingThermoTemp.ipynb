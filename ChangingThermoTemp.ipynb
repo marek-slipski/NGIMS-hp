{
 "cells": [
  {
   "cell_type": "code",
   "execution_count": 57,
   "metadata": {},
   "outputs": [
    {
     "name": "stderr",
     "output_type": "stream",
     "text": [
      "/Users/masl3485/Desktop/NGIMS_homopause/env/lib/python2.7/site-packages/matplotlib/font_manager.py:273: UserWarning: Matplotlib is building the font cache using fc-list. This may take a moment.\n",
      "  warnings.warn('Matplotlib is building the font cache using fc-list. This may take a moment.')\n"
     ]
    }
   ],
   "source": [
    "import numpy as np\n",
    "import matplotlib.pyplot as plt"
   ]
  },
  {
   "cell_type": "code",
   "execution_count": 6,
   "metadata": {},
   "outputs": [],
   "source": [
    "g = 3.81 \n",
    "k = 1.38064852e-23 \n",
    "amu =  1.66e-27"
   ]
  },
  {
   "cell_type": "code",
   "execution_count": 11,
   "metadata": {},
   "outputs": [
    {
     "name": "stdout",
     "output_type": "stream",
     "text": [
      "-0.199095725834\n"
     ]
    }
   ],
   "source": [
    "\n",
    "b = np.log(8)*(-100*k/(12*g*amu))/(190*1000.)\n",
    "print b"
   ]
  },
  {
   "cell_type": "code",
   "execution_count": 13,
   "metadata": {},
   "outputs": [
    {
     "data": {
      "text/plain": [
       "-7.6811713136037971"
      ]
     },
     "execution_count": 13,
     "metadata": {},
     "output_type": "execute_result"
    }
   ],
   "source": [
    "(-(np.log(1.25) - b) * 100 * k /(12*g*amu))/1000."
   ]
  },
  {
   "cell_type": "code",
   "execution_count": 88,
   "metadata": {},
   "outputs": [],
   "source": [
    "def find_mb(N2Ar,Temp,Alt):\n",
    "    m = 12.*g*amu/(k*Temp)\n",
    "    b = np.log(N2Ar) - (m*Alt*1000)\n",
    "    return m, b "
   ]
  },
  {
   "cell_type": "code",
   "execution_count": 113,
   "metadata": {},
   "outputs": [],
   "source": [
    "def hp(T,m,b):\n",
    "    return ((np.log(1.25)-b)/m)/1000"
   ]
  },
  {
   "cell_type": "code",
   "execution_count": 132,
   "metadata": {},
   "outputs": [
    {
     "name": "stdout",
     "output_type": "stream",
     "text": [
      "105.577827284\n",
      "122.462261827\n",
      "2.07944154168\n",
      "2.07944154168\n"
     ]
    }
   ],
   "source": [
    "test = find_mb(8.,250, 190)\n",
    "test2 = find_mb(8.,200, 190)\n",
    "test3 = find_mb(8.,100, 190)\n",
    "print hp(250,*test)\n",
    "print hp(100,*test2)\n",
    "print test[0]*190*1000 + test[1]\n",
    "print test[0]*190*1000 + test[1]"
   ]
  },
  {
   "cell_type": "code",
   "execution_count": 125,
   "metadata": {},
   "outputs": [
    {
     "data": {
      "text/plain": [
       "120.18474763443764"
      ]
     },
     "execution_count": 125,
     "metadata": {},
     "output_type": "execute_result"
    }
   ],
   "source": [
    "T1 = 250\n",
    "hp(T1, *find_mb(3,T1,160))"
   ]
  },
  {
   "cell_type": "code",
   "execution_count": 126,
   "metadata": {},
   "outputs": [
    {
     "data": {
      "text/plain": [
       "144.07389905377505"
      ]
     },
     "execution_count": 126,
     "metadata": {},
     "output_type": "execute_result"
    }
   ],
   "source": [
    "T2 = 100\n",
    "hp(T2, *find_mb(3,T2,160))"
   ]
  },
  {
   "cell_type": "code",
   "execution_count": 127,
   "metadata": {},
   "outputs": [],
   "source": [
    "alts= np.linspace(60.e+3,190.e+3,100)"
   ]
  },
  {
   "cell_type": "code",
   "execution_count": 135,
   "metadata": {},
   "outputs": [
    {
     "data": {
      "image/png": "[encoded data removed]",
      "text/plain": [
       "<matplotlib.figure.Figure at 0x10a86bf90>"
      ]
     },
     "metadata": {},
     "output_type": "display_data"
    }
   ],
   "source": [
    "plt.plot(np.exp(alts*test[0]+test[1]),alts/1000)\n",
    "plt.plot(np.exp(alts*test2[0]+test2[1]+.2),alts/1000)\n",
    "plt.plot(np.exp(alts*test3[0]+test3[1]+2),alts/1000)\n",
    "plt.plot([1.25,1.25],[60,200])\n",
    "plt.xscale('log')\n",
    "plt.xlim(1,10)\n",
    "plt.show()"
   ]
  },
  {
   "cell_type": "code",
   "execution_count": 85,
   "metadata": {},
   "outputs": [],
   "source": [
    "Nt = 2\n",
    "at = 190*1000\n",
    "Tt = 200\n",
    "mt = 12*g*amu/(k*Tt)\n",
    "bt = Nt/mt/(at)"
   ]
  },
  {
   "cell_type": "code",
   "execution_count": 86,
   "metadata": {},
   "outputs": [
    {
     "name": "stdout",
     "output_type": "stream",
     "text": [
      "0.382979221763\n"
     ]
    }
   ],
   "source": [
    "print bt"
   ]
  },
  {
   "cell_type": "code",
   "execution_count": 87,
   "metadata": {},
   "outputs": [
    {
     "name": "stdout",
     "output_type": "stream",
     "text": [
      "5.60519464847\n"
     ]
    }
   ],
   "source": [
    "print at*mt + bt"
   ]
  },
  {
   "cell_type": "code",
   "execution_count": null,
   "metadata": {},
   "outputs": [],
   "source": []
  }
 ],
 "metadata": {
  "kernelspec": {
   "display_name": "Python 2",
   "language": "python",
   "name": "python2"
  },
  "language_info": {
   "codemirror_mode": {
    "name": "ipython",
    "version": 2
   },
   "file_extension": ".py",
   "mimetype": "text/x-python",
   "name": "python",
   "nbconvert_exporter": "python",
   "pygments_lexer": "ipython2",
   "version": "2.7.15rc1"
  }
 },
 "nbformat": 4,
 "nbformat_minor": 2
}
