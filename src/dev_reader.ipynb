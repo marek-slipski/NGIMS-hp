{
 "cells": [
  {
   "cell_type": "code",
   "execution_count": 1,
   "id": "adc3bbf5",
   "metadata": {},
   "outputs": [],
   "source": [
    "%load_ext autoreload\n",
    "%autoreload 2"
   ]
  },
  {
   "cell_type": "code",
   "execution_count": 3,
   "id": "0fc58d15",
   "metadata": {},
   "outputs": [],
   "source": [
    "from reader import NGIMSReader"
   ]
  },
  {
   "cell_type": "code",
   "execution_count": 4,
   "id": "1b4455a3",
   "metadata": {},
   "outputs": [],
   "source": [
    "r = NGIMSReader()"
   ]
  },
  {
   "cell_type": "code",
   "execution_count": 5,
   "id": "7d50e953",
   "metadata": {},
   "outputs": [],
   "source": [
    "url = \"https://atmos.nmsu.edu/PDS/data/PDS4/MAVEN/ngims_bundle/l2/2020/06/mvn_ngi_l2_csn-abund-36790_20200601T022136_v08_r01.csv\"\n",
    "df = r.read(url)"
   ]
  },
  {
   "cell_type": "code",
   "execution_count": 8,
   "id": "94d9b67a",
   "metadata": {},
   "outputs": [],
   "source": [
    "from data_path_handler import FilenameBuilder"
   ]
  },
  {
   "cell_type": "code",
   "execution_count": 11,
   "id": "125ec55f",
   "metadata": {},
   "outputs": [
    {
     "data": {
      "text/plain": [
       "'20180114T030609'"
      ]
     },
     "execution_count": 11,
     "metadata": {},
     "output_type": "execute_result"
    }
   ],
   "source": [
    "import datetime as dt\n",
    "FilenameBuilder().build_filename(134, dt.datetime(2018, 1, 14, 3, 6, 9), 1, 2)"
   ]
  },
  {
   "cell_type": "code",
   "execution_count": null,
   "id": "cb526a0b",
   "metadata": {},
   "outputs": [],
   "source": []
  }
 ],
 "metadata": {
  "kernelspec": {
   "display_name": "env",
   "language": "python",
   "name": "python3"
  },
  "language_info": {
   "codemirror_mode": {
    "name": "ipython",
    "version": 3
   },
   "file_extension": ".py",
   "mimetype": "text/x-python",
   "name": "python",
   "nbconvert_exporter": "python",
   "pygments_lexer": "ipython3",
   "version": "3.10.0"
  }
 },
 "nbformat": 4,
 "nbformat_minor": 5
}
