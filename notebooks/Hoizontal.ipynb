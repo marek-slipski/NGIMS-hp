{
 "cells": [
  {
   "cell_type": "code",
   "execution_count": 44,
   "metadata": {},
   "outputs": [],
   "source": [
    "import pandas as pd\n",
    "import numpy as np\n",
    "import matplotlib.pyplot as plt\n",
    "%matplotlib inline"
   ]
  },
  {
   "cell_type": "code",
   "execution_count": 22,
   "metadata": {},
   "outputs": [],
   "source": [
    "import sys\n",
    "sys.path.append('../')"
   ]
  },
  {
   "cell_type": "code",
   "execution_count": 23,
   "metadata": {},
   "outputs": [],
   "source": [
    "import src.read_raw as rr"
   ]
  },
  {
   "cell_type": "code",
   "execution_count": 54,
   "metadata": {},
   "outputs": [
    {
     "name": "stdout",
     "output_type": "stream",
     "text": [
      "/Users/masl3485/Desktop/MCS/data/raw/maven/data/sci/ngi/l2/2015/03/\n"
     ]
    }
   ],
   "source": [
    "import os\n",
    "import yaml\n",
    "with open('../config.local','rb') as cf:\n",
    "    config = yaml.load(cf)\n",
    "tempbase = config['data_path']\n",
    "pathbase = 'maven/data/sci/ngi/l2/'\n",
    "base = os.path.expanduser(tempbase+pathbase)\n"
   ]
  },
  {
   "cell_type": "code",
   "execution_count": 55,
   "metadata": {},
   "outputs": [],
   "source": [
    "test = base + '2015/03/mvn_ngi_l2_csn-abund-15118_20150301T035951_v07_r01.csv'\n",
    "data = pd.read_csv(test)"
   ]
  },
  {
   "cell_type": "code",
   "execution_count": 56,
   "metadata": {},
   "outputs": [],
   "source": [
    "data = data[(data['species']=='Ar')&(data['alt']<250)]\n",
    "data = rr.IO_orb(data)"
   ]
  },
  {
   "cell_type": "code",
   "execution_count": 57,
   "metadata": {},
   "outputs": [],
   "source": [
    "def horizd(latdiff,longdiff):\n",
    "    Rmars = 3396.\n",
    "    return np.sqrt(Rmars**2 * ((np.abs(latdiff)*np.pi/180.)**2 + (np.abs(longdiff)*np.pi/180)**2 ) )"
   ]
  },
  {
   "cell_type": "code",
   "execution_count": 66,
   "metadata": {},
   "outputs": [
    {
     "name": "stdout",
     "output_type": "stream",
     "text": [
      "1366.83877656\n"
     ]
    }
   ],
   "source": [
    "hd = horizd(data['lat'].max()-data['lat'].min(),data['long'].max()-data['long'].min())\n",
    "print hd"
   ]
  },
  {
   "cell_type": "code",
   "execution_count": 67,
   "metadata": {},
   "outputs": [
    {
     "name": "stdout",
     "output_type": "stream",
     "text": [
      "197.462677082\n"
     ]
    }
   ],
   "source": [
    "bottom = data[data['alt']<data['alt'].min()+2]\n",
    "bt_hd = horizd(bottom['lat'].max()-bottom['lat'].min(),bottom['long'].max()-bottom['long'].min())\n",
    "print bt_hd"
   ]
  },
  {
   "cell_type": "code",
   "execution_count": 68,
   "metadata": {},
   "outputs": [
    {
     "name": "stdout",
     "output_type": "stream",
     "text": [
      "240.404502325\n"
     ]
    }
   ],
   "source": [
    "nb = data[(data['alt']>data['alt'].min()+2) & (data['alt']<data['alt'].min()+10)]\n",
    "nb_hd = horizd(nb['lat'].max()-nb['lat'].min(),nb['long'].max()-nb['long'].min())\n",
    "print nb_hd"
   ]
  },
  {
   "cell_type": "code",
   "execution_count": 69,
   "metadata": {},
   "outputs": [
    {
     "name": "stdout",
     "output_type": "stream",
     "text": [
      "951.352367215\n"
     ]
    }
   ],
   "source": [
    "top = data[data['alt']<200]\n",
    "tp_hd = horizd(top['lat'].max()-top['lat'].min(),top['long'].max()-top['long'].min())\n",
    "print tp_hd"
   ]
  },
  {
   "cell_type": "code",
   "execution_count": 73,
   "metadata": {},
   "outputs": [
    {
     "name": "stdout",
     "output_type": "stream",
     "text": [
      "0.207559978707\n",
      "0.144466692392\n"
     ]
    }
   ],
   "source": [
    "print bt_hd/tp_hd\n",
    "print bt_hd/hd"
   ]
  },
  {
   "cell_type": "code",
   "execution_count": 62,
   "metadata": {},
   "outputs": [
    {
     "data": {
      "image/png": "[encoded data removed]",
      "text/plain": [
       "<matplotlib.figure.Figure at 0x111e2aed0>"
      ]
     },
     "metadata": {},
     "output_type": "display_data"
    }
   ],
   "source": [
    "plt.plot(data['lat'],data['alt'],'b')\n",
    "plt.twiny()\n",
    "plt.plot(data['long'],data['alt'],'r')\n",
    "\n",
    "plt.ylim(140,250)\n",
    "\n",
    "plt.show()"
   ]
  },
  {
   "cell_type": "code",
   "execution_count": 64,
   "metadata": {},
   "outputs": [
    {
     "data": {
      "image/png": "[encoded data removed]",
      "text/plain": [
       "<matplotlib.figure.Figure at 0x111db9210>"
      ]
     },
     "metadata": {},
     "output_type": "display_data"
    }
   ],
   "source": [
    "plt.plot(data['lat'],data['alt'],'b')\n",
    "plt.twiny()\n",
    "plt.plot(data['long'],data['alt'],'r')\n",
    "\n",
    "\n",
    "plt.show()"
   ]
  },
  {
   "cell_type": "code",
   "execution_count": 52,
   "metadata": {},
   "outputs": [
    {
     "name": "stdout",
     "output_type": "stream",
     "text": [
      "14.6787218737\n"
     ]
    }
   ],
   "source": [
    "print 5.4*np.exp(1)"
   ]
  },
  {
   "cell_type": "code",
   "execution_count": 72,
   "metadata": {},
   "outputs": [
    {
     "data": {
      "text/plain": [
       "1513.2745950421556"
      ]
     },
     "execution_count": 72,
     "metadata": {},
     "output_type": "execute_result"
    }
   ],
   "source": [
    "np.sqrt(1500**2 + 200**2)"
   ]
  },
  {
   "cell_type": "code",
   "execution_count": null,
   "metadata": {},
   "outputs": [],
   "source": []
  }
 ],
 "metadata": {
  "kernelspec": {
   "display_name": "env",
   "language": "python",
   "name": "env"
  },
  "language_info": {
   "codemirror_mode": {
    "name": "ipython",
    "version": 2
   },
   "file_extension": ".py",
   "mimetype": "text/x-python",
   "name": "python",
   "nbconvert_exporter": "python",
   "pygments_lexer": "ipython2",
   "version": "2.7.6"
  }
 },
 "nbformat": 4,
 "nbformat_minor": 2
}
