{
 "cells": [
  {
   "cell_type": "code",
   "execution_count": 17,
   "metadata": {},
   "outputs": [],
   "source": [
    "import dask.dataframe as dd\n",
    "import pandas as pd\n",
    "from pathlib import Path \n",
    "\n",
    "import numpy as np\n",
    "import scipy.stats as sps\n",
    "from sklearn import linear_model"
   ]
  },
  {
   "cell_type": "code",
   "execution_count": 14,
   "metadata": {},
   "outputs": [],
   "source": [
    "PATH_MAVEN = Path(\"/home/marek\")\n",
    "PATH_NGI = Path(PATH_MAVEN) / \"maven\" / \"data\" / \"sci\" / \"ngi\"\n",
    "PATH_NGI_L2 = Path(PATH_NGI) / \"l2\""
   ]
  },
  {
   "cell_type": "code",
   "execution_count": 19,
   "metadata": {},
   "outputs": [],
   "source": [
    "test_dir = Path(PATH_NGI_L2, \"2016/01/*.csv\")"
   ]
  },
  {
   "cell_type": "code",
   "execution_count": 270,
   "metadata": {},
   "outputs": [],
   "source": [
    "ddf = dd.read_csv(test_dir)"
   ]
  },
  {
   "cell_type": "code",
   "execution_count": 271,
   "metadata": {},
   "outputs": [],
   "source": [
    "def IO_orb(orbdata,io='I'):\n",
    "    minalt = orbdata['alt'].min()\n",
    "    peri_t = orbdata[orbdata['alt']==minalt]['t_unix'].unique()\n",
    "    #if len(peri_t)>1:\n",
    "    #    sys.exit('Non-unique time found at periapse '+str(orbdata['orbit'].unique()))\n",
    "    #else:\n",
    "    if io == 'I':\n",
    "        return orbdata[orbdata['t_unix']<=peri_t[0]]\n",
    "    elif io =='O':\n",
    "        return orbdata[orbdata['t_unix']>peri_t[0]]\n",
    "    else:\n",
    "        return orbdata"
   ]
  },
  {
   "cell_type": "code",
   "execution_count": 272,
   "metadata": {},
   "outputs": [],
   "source": [
    "ddf = ddf[[\"orbit\", \"alt\", \"species\", \"abundance\", \"t_unix\"]]\n",
    "ddf = ddf[ddf[\"abundance\"] > 0.]\n",
    "ddf = ddf[ddf[\"alt\"] < 250]"
   ]
  },
  {
   "cell_type": "code",
   "execution_count": 273,
   "metadata": {},
   "outputs": [],
   "source": [
    "ddf = ddf.map_partitions(IO_orb)"
   ]
  },
  {
   "cell_type": "code",
   "execution_count": 274,
   "metadata": {},
   "outputs": [
    {
     "data": {
      "text/html": [
       "<div>\n",
       "<style scoped>\n",
       "    .dataframe tbody tr th:only-of-type {\n",
       "        vertical-align: middle;\n",
       "    }\n",
       "\n",
       "    .dataframe tbody tr th {\n",
       "        vertical-align: top;\n",
       "    }\n",
       "\n",
       "    .dataframe thead th {\n",
       "        text-align: right;\n",
       "    }\n",
       "</style>\n",
       "<table border=\"1\" class=\"dataframe\">\n",
       "  <thead>\n",
       "    <tr style=\"text-align: right;\">\n",
       "      <th></th>\n",
       "      <th>orbit</th>\n",
       "      <th>alt</th>\n",
       "      <th>species</th>\n",
       "      <th>abundance</th>\n",
       "      <th>t_unix</th>\n",
       "    </tr>\n",
       "  </thead>\n",
       "  <tbody>\n",
       "    <tr>\n",
       "      <th>195</th>\n",
       "      <td>2441</td>\n",
       "      <td>216.3433</td>\n",
       "      <td>Ar</td>\n",
       "      <td>194.132038</td>\n",
       "      <td>1.451616e+09</td>\n",
       "    </tr>\n",
       "    <tr>\n",
       "      <th>196</th>\n",
       "      <td>2441</td>\n",
       "      <td>215.3266</td>\n",
       "      <td>Ar</td>\n",
       "      <td>242.047639</td>\n",
       "      <td>1.451616e+09</td>\n",
       "    </tr>\n",
       "    <tr>\n",
       "      <th>197</th>\n",
       "      <td>2441</td>\n",
       "      <td>214.3157</td>\n",
       "      <td>Ar</td>\n",
       "      <td>329.222788</td>\n",
       "      <td>1.451616e+09</td>\n",
       "    </tr>\n",
       "    <tr>\n",
       "      <th>198</th>\n",
       "      <td>2441</td>\n",
       "      <td>213.3106</td>\n",
       "      <td>Ar</td>\n",
       "      <td>368.484369</td>\n",
       "      <td>1.451616e+09</td>\n",
       "    </tr>\n",
       "    <tr>\n",
       "      <th>199</th>\n",
       "      <td>2441</td>\n",
       "      <td>212.3111</td>\n",
       "      <td>Ar</td>\n",
       "      <td>416.351715</td>\n",
       "      <td>1.451616e+09</td>\n",
       "    </tr>\n",
       "  </tbody>\n",
       "</table>\n",
       "</div>"
      ],
      "text/plain": [
       "     orbit       alt species   abundance        t_unix\n",
       "195   2441  216.3433      Ar  194.132038  1.451616e+09\n",
       "196   2441  215.3266      Ar  242.047639  1.451616e+09\n",
       "197   2441  214.3157      Ar  329.222788  1.451616e+09\n",
       "198   2441  213.3106      Ar  368.484369  1.451616e+09\n",
       "199   2441  212.3111      Ar  416.351715  1.451616e+09"
      ]
     },
     "execution_count": 274,
     "metadata": {},
     "output_type": "execute_result"
    }
   ],
   "source": [
    "ddf.head()"
   ]
  },
  {
   "cell_type": "code",
   "execution_count": 275,
   "metadata": {},
   "outputs": [],
   "source": [
    "orbs = ddf[\"orbit\"].unique().compute().tolist()"
   ]
  },
  {
   "cell_type": "code",
   "execution_count": 276,
   "metadata": {},
   "outputs": [],
   "source": [
    "def df_from_orb_range(daskdf, orbit, orb_step=5):\n",
    "    look_for_orbs = list(range(orbit - orb_step, orbit + orb_step))\n",
    "    temp_ddf = daskdf[daskdf[\"orbit\"].isin(look_for_orbs)]\n",
    "    temp_df = temp_ddf.compute()\n",
    "    return temp_df\n",
    "\n",
    "def pivot_df(df):\n",
    "    temp_df = df.pivot_table(values=[\"abundance\"], index=[\"orbit\",\"alt\", \"species\"]).unstack()\n",
    "    return temp_df\n",
    "\n",
    "def make_ratio_col(df):\n",
    "    df[\"N2/Ar\"] = df[\"abundance\"][\"N2\"] / df[\"abundance\"][\"Ar\"]\n",
    "    return df\n",
    "\n",
    "def fit_ratio_alt(df):\n",
    "    x = df[[\"alt\"]]\n",
    "    y = np.log(df[\"N2/Ar\"])\n",
    "    lr = linear_model.LinearRegression()\n",
    "    lr.fit(x, y)\n",
    "    return lr\n",
    "\n",
    "def hp_from_fit(ratio, slope, intercept):\n",
    "    return (np.log(ratio)-intercept)/slope"
   ]
  },
  {
   "cell_type": "code",
   "execution_count": 278,
   "metadata": {},
   "outputs": [
    {
     "name": "stdout",
     "output_type": "stream",
     "text": [
      "[2436, 2437, 2438, 2439, 2440, 2441, 2442, 2443, 2444, 2445]\n",
      "2441 92.44266790773604 4 0.028038886678739612 -2.36884593843116\n",
      "[2437, 2438, 2439, 2440, 2441, 2442, 2443, 2444, 2445, 2446]\n",
      "2442 87.74570066184259 5 0.02593049960455158 -2.052146304998801\n",
      "[2439, 2440, 2441, 2442, 2443, 2444, 2445, 2446, 2447, 2448]\n",
      "2444 83.92270969258767 7 0.023926715245991537 -1.7848512261723495\n",
      "[2440, 2441, 2442, 2443, 2444, 2445, 2446, 2447, 2448, 2449]\n",
      "2445 85.1653131009223 8 0.023753022321350046 -1.7997900317767632\n",
      "[2441, 2442, 2443, 2444, 2445, 2446, 2447, 2448, 2449, 2450]\n",
      "2446 86.05221177492734 9 0.024133110376929133 -1.8535639736289928\n"
     ]
    }
   ],
   "source": [
    "for orb in orbs[0:5]:\n",
    "    temp_df = df_from_orb_range(ddf, orb, orb_step=5)\n",
    "    norbs = len(temp_df[\"orbit\"].unique())\n",
    "    temp_df = pivot_df(temp_df)\n",
    "    temp_df = make_ratio_col(temp_df)\n",
    "    final_df = temp_df[\"N2/Ar\"].reset_index().dropna(subset=[\"alt\", \"N2/Ar\"])\n",
    "    fit = fit_ratio_alt(final_df)\n",
    "    hp = hp_from_fit(1.25, float(fit.coef_),fit.intercept_)\n",
    "    print(orb, hp, norbs, float(fit.coef_), fit.intercept_)"
   ]
  },
  {
   "cell_type": "code",
   "execution_count": null,
   "metadata": {},
   "outputs": [],
   "source": []
  }
 ],
 "metadata": {
  "kernelspec": {
   "display_name": "Python 3",
   "language": "python",
   "name": "python3"
  },
  "language_info": {
   "codemirror_mode": {
    "name": "ipython",
    "version": 3
   },
   "file_extension": ".py",
   "mimetype": "text/x-python",
   "name": "python",
   "nbconvert_exporter": "python",
   "pygments_lexer": "ipython3",
   "version": "3.7.5"
  }
 },
 "nbformat": 4,
 "nbformat_minor": 4
}
