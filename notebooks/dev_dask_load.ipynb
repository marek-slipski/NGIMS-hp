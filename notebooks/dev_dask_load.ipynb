{
 "cells": [
  {
   "cell_type": "code",
   "execution_count": 1,
   "metadata": {},
   "outputs": [],
   "source": [
    "import dask\n",
    "import dask.dataframe as dd\n",
    "import glob\n",
    "import pandas as pd\n",
    "from pathlib import Path \n",
    "\n",
    "import numpy as np\n",
    "import scipy.stats as sps\n",
    "from sklearn import linear_model\n",
    "\n",
    "from distributed import Client\n",
    "client = Client()"
   ]
  },
  {
   "cell_type": "code",
   "execution_count": 2,
   "metadata": {},
   "outputs": [],
   "source": [
    "PATH_MAVEN = Path(\"/home/marek\")\n",
    "PATH_NGI = Path(PATH_MAVEN) / \"maven\" / \"data\" / \"sci\" / \"ngi\"\n",
    "PATH_NGI_L2 = Path(PATH_NGI) / \"l2\""
   ]
  },
  {
   "cell_type": "code",
   "execution_count": 6,
   "metadata": {},
   "outputs": [],
   "source": [
    "test_dir = Path(PATH_NGI_L2, \"2019/04/*0401*.csv\")"
   ]
  },
  {
   "cell_type": "code",
   "execution_count": 7,
   "metadata": {},
   "outputs": [],
   "source": [
    "meta_cols = {\n",
    "    \"orbit\": int,\n",
    "    \"alt\": float,\n",
    "    \"species\": str,\n",
    "    \"abundance\": float,\n",
    "    \"t_unix\": float\n",
    "}"
   ]
  },
  {
   "cell_type": "code",
   "execution_count": 8,
   "metadata": {},
   "outputs": [],
   "source": [
    "ddf = dd.read_csv(\n",
    "    test_dir, \n",
    "    assume_missing=True, \n",
    "    usecols=[\"orbit\", \"alt\", \"species\", \"abundance\", \"t_unix\"],\n",
    "    dtype=meta_cols,\n",
    "    na_values = [\" \", \"-999\"]\n",
    ")"
   ]
  },
  {
   "cell_type": "code",
   "execution_count": 13,
   "metadata": {},
   "outputs": [
    {
     "data": {
      "text/plain": [
       "8"
      ]
     },
     "execution_count": 13,
     "metadata": {},
     "output_type": "execute_result"
    },
    {
     "name": "stderr",
     "output_type": "stream",
     "text": [
      "distributed.nanny - WARNING - Restarting worker\n",
      "distributed.nanny - WARNING - Restarting worker\n",
      "distributed.nanny - WARNING - Restarting worker\n",
      "distributed.nanny - WARNING - Restarting worker\n"
     ]
    }
   ],
   "source": [
    "ddf.npartitions"
   ]
  },
  {
   "cell_type": "code",
   "execution_count": 12,
   "metadata": {},
   "outputs": [
    {
     "data": {
      "text/html": [
       "<div>\n",
       "<style scoped>\n",
       "    .dataframe tbody tr th:only-of-type {\n",
       "        vertical-align: middle;\n",
       "    }\n",
       "\n",
       "    .dataframe tbody tr th {\n",
       "        vertical-align: top;\n",
       "    }\n",
       "\n",
       "    .dataframe thead th {\n",
       "        text-align: right;\n",
       "    }\n",
       "</style>\n",
       "<table border=\"1\" class=\"dataframe\">\n",
       "  <thead>\n",
       "    <tr style=\"text-align: right;\">\n",
       "      <th></th>\n",
       "      <th>t_unix</th>\n",
       "      <th>orbit</th>\n",
       "      <th>alt</th>\n",
       "      <th>species</th>\n",
       "      <th>abundance</th>\n",
       "    </tr>\n",
       "  </thead>\n",
       "  <tbody>\n",
       "    <tr>\n",
       "      <th>0</th>\n",
       "      <td>1.554084e+09</td>\n",
       "      <td>8821</td>\n",
       "      <td>438.7639</td>\n",
       "      <td>Ar</td>\n",
       "      <td>0.0</td>\n",
       "    </tr>\n",
       "    <tr>\n",
       "      <th>1</th>\n",
       "      <td>1.554084e+09</td>\n",
       "      <td>8821</td>\n",
       "      <td>437.1751</td>\n",
       "      <td>Ar</td>\n",
       "      <td>0.0</td>\n",
       "    </tr>\n",
       "    <tr>\n",
       "      <th>2</th>\n",
       "      <td>1.554084e+09</td>\n",
       "      <td>8821</td>\n",
       "      <td>435.5895</td>\n",
       "      <td>Ar</td>\n",
       "      <td>0.0</td>\n",
       "    </tr>\n",
       "    <tr>\n",
       "      <th>3</th>\n",
       "      <td>1.554084e+09</td>\n",
       "      <td>8821</td>\n",
       "      <td>434.0071</td>\n",
       "      <td>Ar</td>\n",
       "      <td>0.0</td>\n",
       "    </tr>\n",
       "    <tr>\n",
       "      <th>4</th>\n",
       "      <td>1.554084e+09</td>\n",
       "      <td>8821</td>\n",
       "      <td>432.4278</td>\n",
       "      <td>Ar</td>\n",
       "      <td>0.0</td>\n",
       "    </tr>\n",
       "    <tr>\n",
       "      <th>...</th>\n",
       "      <td>...</td>\n",
       "      <td>...</td>\n",
       "      <td>...</td>\n",
       "      <td>...</td>\n",
       "      <td>...</td>\n",
       "    </tr>\n",
       "    <tr>\n",
       "      <th>4303</th>\n",
       "      <td>1.555393e+09</td>\n",
       "      <td>8920</td>\n",
       "      <td>474.6245</td>\n",
       "      <td>O</td>\n",
       "      <td>NaN</td>\n",
       "    </tr>\n",
       "    <tr>\n",
       "      <th>4304</th>\n",
       "      <td>1.555393e+09</td>\n",
       "      <td>8920</td>\n",
       "      <td>476.2508</td>\n",
       "      <td>O</td>\n",
       "      <td>NaN</td>\n",
       "    </tr>\n",
       "    <tr>\n",
       "      <th>4305</th>\n",
       "      <td>1.555393e+09</td>\n",
       "      <td>8920</td>\n",
       "      <td>477.8802</td>\n",
       "      <td>O</td>\n",
       "      <td>NaN</td>\n",
       "    </tr>\n",
       "    <tr>\n",
       "      <th>4306</th>\n",
       "      <td>1.555393e+09</td>\n",
       "      <td>8920</td>\n",
       "      <td>479.5128</td>\n",
       "      <td>O</td>\n",
       "      <td>NaN</td>\n",
       "    </tr>\n",
       "    <tr>\n",
       "      <th>4307</th>\n",
       "      <td>1.555393e+09</td>\n",
       "      <td>8920</td>\n",
       "      <td>481.1485</td>\n",
       "      <td>O</td>\n",
       "      <td>NaN</td>\n",
       "    </tr>\n",
       "  </tbody>\n",
       "</table>\n",
       "<p>34464 rows × 5 columns</p>\n",
       "</div>"
      ],
      "text/plain": [
       "            t_unix  orbit       alt species  abundance\n",
       "0     1.554084e+09   8821  438.7639      Ar        0.0\n",
       "1     1.554084e+09   8821  437.1751      Ar        0.0\n",
       "2     1.554084e+09   8821  435.5895      Ar        0.0\n",
       "3     1.554084e+09   8821  434.0071      Ar        0.0\n",
       "4     1.554084e+09   8821  432.4278      Ar        0.0\n",
       "...            ...    ...       ...     ...        ...\n",
       "4303  1.555393e+09   8920  474.6245       O        NaN\n",
       "4304  1.555393e+09   8920  476.2508       O        NaN\n",
       "4305  1.555393e+09   8920  477.8802       O        NaN\n",
       "4306  1.555393e+09   8920  479.5128       O        NaN\n",
       "4307  1.555393e+09   8920  481.1485       O        NaN\n",
       "\n",
       "[34464 rows x 5 columns]"
      ]
     },
     "execution_count": 12,
     "metadata": {},
     "output_type": "execute_result"
    }
   ],
   "source": [
    "ddf.compute()"
   ]
  },
  {
   "cell_type": "code",
   "execution_count": 203,
   "metadata": {},
   "outputs": [],
   "source": [
    "def cull_empty_partitions(df):\n",
    "    ll = list(df.map_partitions(len).compute())\n",
    "    df_delayed = df.to_delayed()\n",
    "    df_delayed_new = list()\n",
    "    pempty = None\n",
    "    for ix, n in enumerate(ll):\n",
    "        if 0 == n:\n",
    "            pempty = df.get_partition(ix)\n",
    "        else:\n",
    "            df_delayed_new.append(df_delayed[ix])\n",
    "    if pempty is not None:\n",
    "        df = dd.from_delayed(df_delayed_new, meta=pempty)\n",
    "    return df"
   ]
  },
  {
   "cell_type": "code",
   "execution_count": 204,
   "metadata": {},
   "outputs": [],
   "source": [
    "ddf = ddf[(ddf[\"abundance\"] > 0.) & (ddf[\"alt\"] < 250) & (ddf[\"species\"].isin([\"Ar\", \"N2\"]))]\n",
    "ddf = ddf.set_index('orbit', sorted=True, drop=False)\n",
    "#ddf = cull_empty_partitions(ddf)"
   ]
  },
  {
   "cell_type": "code",
   "execution_count": 205,
   "metadata": {},
   "outputs": [],
   "source": [
    "ddf_persisted = ddf.persist()"
   ]
  },
  {
   "cell_type": "code",
   "execution_count": 206,
   "metadata": {},
   "outputs": [],
   "source": [
    "ddf_culled = cull_empty_partitions(ddf_persisted)"
   ]
  },
  {
   "cell_type": "code",
   "execution_count": 207,
   "metadata": {},
   "outputs": [],
   "source": [
    "ddf_culled_persisted = ddf_culled.persist()"
   ]
  },
  {
   "cell_type": "code",
   "execution_count": 208,
   "metadata": {},
   "outputs": [],
   "source": [
    "@dask.delayed()\n",
    "def IO_orb(orbdata,io='I'):\n",
    "    minalt = orbdata['alt'].min()\n",
    "    peri_t = orbdata[orbdata['alt']==minalt]['t_unix'].unique()\n",
    "    #if len(peri_t)>1:\n",
    "    #    sys.exit('Non-unique time found at periapse '+str(orbdata['orbit'].unique()))\n",
    "    #else:\n",
    "    if io == 'I':\n",
    "        return orbdata[orbdata['t_unix']<=peri_t[0]]\n",
    "    elif io =='O':\n",
    "        return orbdata[orbdata['t_unix']>peri_t[0]]\n",
    "    else:\n",
    "        return orbdata\n",
    "\n",
    "@dask.delayed()\n",
    "def df_from_orb_range(daskdf, orbit, orb_step=5):\n",
    "    look_for_orbs = list(range(orbit - orb_step, orbit + orb_step + 1))\n",
    "    temp_ddf = daskdf[daskdf.index.isin(look_for_orbs)]\n",
    "    #temp_df = temp_ddf.compute()\n",
    "    return temp_ddf\n",
    "\n",
    "@dask.delayed\n",
    "def pivot_df(df):\n",
    "    temp_df = df.reset_index(drop=True)\n",
    "    temp_df = temp_df.pivot_table(values=[\"abundance\"], index=[\"orbit\",\"alt\", \"species\"]).unstack()\n",
    "    return temp_df\n",
    "\n",
    "@dask.delayed()\n",
    "def make_ratio_col(df):\n",
    "    df[\"N2/Ar\"] = df[\"abundance\"][\"N2\"] / df[\"abundance\"][\"Ar\"]\n",
    "    df = df[\"N2/Ar\"].reset_index().dropna(subset=[\"alt\", \"N2/Ar\"])\n",
    "    return df\n",
    "\n",
    "@dask.delayed()\n",
    "def fit_ratio_alt(df):\n",
    "    x = df[[\"alt\"]]\n",
    "    y = np.log(df[\"N2/Ar\"])\n",
    "    lr = linear_model.LinearRegression()\n",
    "    lr.fit(x, y)\n",
    "    return lr\n",
    "\n",
    "@dask.delayed()\n",
    "def hp_from_fit(ratio, slope, intercept):\n",
    "    return (np.log(ratio)-intercept)/slope"
   ]
  },
  {
   "cell_type": "code",
   "execution_count": 213,
   "metadata": {},
   "outputs": [],
   "source": [
    "def print_orb(data):\n",
    "    data = IO_orb(data)\n",
    "    orb = data.index.unique()[0]\n",
    "    df = df_from_orb_range(ddf, orb, orb_step=5)\n",
    "    norbs = df.index.unique().shape[0]\n",
    "    df = pivot_df(df)\n",
    "    df = make_ratio_col(df)\n",
    "    fit = fit_ratio_alt(df)\n",
    "    hp = hp_from_fit(1.25, fit.coef_[0],fit.intercept_)\n",
    "    return [orb, hp, fit.coef_[0], fit.intercept_, norbs]"
   ]
  },
  {
   "cell_type": "code",
   "execution_count": 214,
   "metadata": {},
   "outputs": [],
   "source": [
    "ddf_hp_map = ddf_culled_persisted.map_partitions(print_orb)\n",
    "#ddf_hp_map = ddf.map_partitions(print_orb)"
   ]
  },
  {
   "cell_type": "code",
   "execution_count": 215,
   "metadata": {},
   "outputs": [
    {
     "name": "stdout",
     "output_type": "stream",
     "text": [
      "CPU times: user 28.6 s, sys: 1.21 s, total: 29.8 s\n",
      "Wall time: 40 s\n"
     ]
    }
   ],
   "source": [
    "%%time \n",
    "ddf_hp_map = ddf_hp_map.compute()"
   ]
  },
  {
   "cell_type": "code",
   "execution_count": 216,
   "metadata": {},
   "outputs": [
    {
     "name": "stdout",
     "output_type": "stream",
     "text": [
      "CPU times: user 1min 23s, sys: 5.92 s, total: 1min 29s\n",
      "Wall time: 1min 42s\n"
     ]
    },
    {
     "data": {
      "text/html": [
       "<div>\n",
       "<style scoped>\n",
       "    .dataframe tbody tr th:only-of-type {\n",
       "        vertical-align: middle;\n",
       "    }\n",
       "\n",
       "    .dataframe tbody tr th {\n",
       "        vertical-align: top;\n",
       "    }\n",
       "\n",
       "    .dataframe thead th {\n",
       "        text-align: right;\n",
       "    }\n",
       "</style>\n",
       "<table border=\"1\" class=\"dataframe\">\n",
       "  <thead>\n",
       "    <tr style=\"text-align: right;\">\n",
       "      <th></th>\n",
       "      <th>orb</th>\n",
       "      <th>hp_alt</th>\n",
       "      <th>fit_slope</th>\n",
       "      <th>fit_intercept</th>\n",
       "      <th>norbs</th>\n",
       "    </tr>\n",
       "  </thead>\n",
       "  <tbody>\n",
       "    <tr>\n",
       "      <th>0</th>\n",
       "      <td>8821</td>\n",
       "      <td>111.968972</td>\n",
       "      <td>0.027313</td>\n",
       "      <td>-2.835060</td>\n",
       "      <td>6</td>\n",
       "    </tr>\n",
       "    <tr>\n",
       "      <th>1</th>\n",
       "      <td>8822</td>\n",
       "      <td>112.210630</td>\n",
       "      <td>0.027523</td>\n",
       "      <td>-2.865185</td>\n",
       "      <td>7</td>\n",
       "    </tr>\n",
       "    <tr>\n",
       "      <th>2</th>\n",
       "      <td>8823</td>\n",
       "      <td>111.717642</td>\n",
       "      <td>0.027276</td>\n",
       "      <td>-2.824015</td>\n",
       "      <td>8</td>\n",
       "    </tr>\n",
       "    <tr>\n",
       "      <th>3</th>\n",
       "      <td>8824</td>\n",
       "      <td>112.062220</td>\n",
       "      <td>0.027367</td>\n",
       "      <td>-2.843663</td>\n",
       "      <td>9</td>\n",
       "    </tr>\n",
       "    <tr>\n",
       "      <th>4</th>\n",
       "      <td>8825</td>\n",
       "      <td>112.195111</td>\n",
       "      <td>0.027253</td>\n",
       "      <td>-2.834563</td>\n",
       "      <td>10</td>\n",
       "    </tr>\n",
       "    <tr>\n",
       "      <th>...</th>\n",
       "      <td>...</td>\n",
       "      <td>...</td>\n",
       "      <td>...</td>\n",
       "      <td>...</td>\n",
       "      <td>...</td>\n",
       "    </tr>\n",
       "    <tr>\n",
       "      <th>171</th>\n",
       "      <td>9013</td>\n",
       "      <td>97.414886</td>\n",
       "      <td>0.028407</td>\n",
       "      <td>-2.544153</td>\n",
       "      <td>9</td>\n",
       "    </tr>\n",
       "    <tr>\n",
       "      <th>172</th>\n",
       "      <td>9014</td>\n",
       "      <td>96.516582</td>\n",
       "      <td>0.028174</td>\n",
       "      <td>-2.496143</td>\n",
       "      <td>8</td>\n",
       "    </tr>\n",
       "    <tr>\n",
       "      <th>173</th>\n",
       "      <td>9015</td>\n",
       "      <td>96.516582</td>\n",
       "      <td>0.028174</td>\n",
       "      <td>-2.496143</td>\n",
       "      <td>8</td>\n",
       "    </tr>\n",
       "    <tr>\n",
       "      <th>174</th>\n",
       "      <td>9016</td>\n",
       "      <td>96.581030</td>\n",
       "      <td>0.028208</td>\n",
       "      <td>-2.501182</td>\n",
       "      <td>7</td>\n",
       "    </tr>\n",
       "    <tr>\n",
       "      <th>175</th>\n",
       "      <td>9017</td>\n",
       "      <td>97.800181</td>\n",
       "      <td>0.028811</td>\n",
       "      <td>-2.594584</td>\n",
       "      <td>6</td>\n",
       "    </tr>\n",
       "  </tbody>\n",
       "</table>\n",
       "<p>176 rows × 5 columns</p>\n",
       "</div>"
      ],
      "text/plain": [
       "      orb      hp_alt  fit_slope  fit_intercept  norbs\n",
       "0    8821  111.968972   0.027313      -2.835060      6\n",
       "1    8822  112.210630   0.027523      -2.865185      7\n",
       "2    8823  111.717642   0.027276      -2.824015      8\n",
       "3    8824  112.062220   0.027367      -2.843663      9\n",
       "4    8825  112.195111   0.027253      -2.834563     10\n",
       "..    ...         ...        ...            ...    ...\n",
       "171  9013   97.414886   0.028407      -2.544153      9\n",
       "172  9014   96.516582   0.028174      -2.496143      8\n",
       "173  9015   96.516582   0.028174      -2.496143      8\n",
       "174  9016   96.581030   0.028208      -2.501182      7\n",
       "175  9017   97.800181   0.028811      -2.594584      6\n",
       "\n",
       "[176 rows x 5 columns]"
      ]
     },
     "execution_count": 216,
     "metadata": {},
     "output_type": "execute_result"
    }
   ],
   "source": [
    "%%time\n",
    "newdf = pd.DataFrame(\n",
    "    [dask.compute(x)[0] for x in ddf_hp_map],\n",
    "    columns=[\"orb\", \"hp_alt\", \"fit_slope\", \"fit_intercept\", \"norbs\"]\n",
    ")\n",
    "newdf"
   ]
  },
  {
   "cell_type": "code",
   "execution_count": 111,
   "metadata": {},
   "outputs": [
    {
     "data": {
      "text/plain": [
       "60"
      ]
     },
     "execution_count": 111,
     "metadata": {},
     "output_type": "execute_result"
    },
    {
     "name": "stderr",
     "output_type": "stream",
     "text": [
      "distributed.nanny - WARNING - Restarting worker\n",
      "distributed.nanny - WARNING - Restarting worker\n",
      "distributed.nanny - WARNING - Restarting worker\n",
      "distributed.nanny - WARNING - Restarting worker\n",
      "distributed.nanny - WARNING - Restarting worker\n",
      "distributed.nanny - WARNING - Restarting worker\n",
      "distributed.nanny - WARNING - Restarting worker\n",
      "distributed.nanny - WARNING - Restarting worker\n"
     ]
    }
   ],
   "source": [
    "months = len([2015, 2016, 2017, 2018, 2019]) * 12\n",
    "months"
   ]
  },
  {
   "cell_type": "code",
   "execution_count": 217,
   "metadata": {},
   "outputs": [
    {
     "data": {
      "text/plain": [
       "1.5"
      ]
     },
     "execution_count": 217,
     "metadata": {},
     "output_type": "execute_result"
    }
   ],
   "source": [
    "60*1.5 / 60"
   ]
  },
  {
   "cell_type": "code",
   "execution_count": null,
   "metadata": {},
   "outputs": [],
   "source": []
  }
 ],
 "metadata": {
  "kernelspec": {
   "display_name": "Python 3",
   "language": "python",
   "name": "python3"
  },
  "language_info": {
   "codemirror_mode": {
    "name": "ipython",
    "version": 3
   },
   "file_extension": ".py",
   "mimetype": "text/x-python",
   "name": "python",
   "nbconvert_exporter": "python",
   "pygments_lexer": "ipython3",
   "version": "3.7.5"
  }
 },
 "nbformat": 4,
 "nbformat_minor": 4
}
