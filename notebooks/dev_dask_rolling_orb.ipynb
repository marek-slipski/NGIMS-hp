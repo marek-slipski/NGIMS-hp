{
 "cells": [
  {
   "cell_type": "code",
   "execution_count": 1,
   "metadata": {},
   "outputs": [
    {
     "name": "stderr",
     "output_type": "stream",
     "text": [
      "/home/marek/NGIMS-hp/env/lib/python3.7/site-packages/distributed/dashboard/core.py:79: UserWarning: \n",
      "Port 8787 is already in use. \n",
      "Perhaps you already have a cluster running?\n",
      "Hosting the diagnostics dashboard on a random port instead.\n",
      "  warnings.warn(\"\\n\" + msg)\n"
     ]
    }
   ],
   "source": [
    "import dask\n",
    "import dask.dataframe as dd\n",
    "import glob\n",
    "import pandas as pd\n",
    "from pathlib import Path \n",
    "\n",
    "import numpy as np\n",
    "import scipy.stats as sps\n",
    "from sklearn import linear_model\n",
    "\n",
    "from distributed import Client\n",
    "client = Client()"
   ]
  },
  {
   "cell_type": "code",
   "execution_count": 111,
   "metadata": {},
   "outputs": [],
   "source": [
    "PATH_MAVEN = Path(\"/home/marek\")\n",
    "PATH_NGI = Path(PATH_MAVEN) / \"maven\" / \"data\" / \"sci\" / \"ngi\"\n",
    "PATH_NGI_L2 = Path(PATH_NGI) / \"l2\""
   ]
  },
  {
   "cell_type": "code",
   "execution_count": 215,
   "metadata": {},
   "outputs": [],
   "source": [
    "year = 2019"
   ]
  },
  {
   "cell_type": "code",
   "execution_count": 216,
   "metadata": {},
   "outputs": [],
   "source": [
    "test_dir = Path(PATH_NGI_L2, f\"{year}/*/*.csv\")"
   ]
  },
  {
   "cell_type": "code",
   "execution_count": 217,
   "metadata": {},
   "outputs": [],
   "source": [
    "meta_cols = {\n",
    "    \"orbit\": int,\n",
    "    \"alt\": float,\n",
    "    \"species\": str,\n",
    "    \"abundance\": float,\n",
    "    \"t_unix\": float\n",
    "}"
   ]
  },
  {
   "cell_type": "code",
   "execution_count": 218,
   "metadata": {},
   "outputs": [],
   "source": [
    "ddf = dd.read_csv(\n",
    "    test_dir, \n",
    "    assume_missing=True, \n",
    "    usecols=[\"orbit\", \"alt\", \"species\", \"abundance\", \"t_unix\"],\n",
    "    include_path_column=True,\n",
    "    dtype=meta_cols,\n",
    "    na_values = [\" \", \"-999\", np.inf, \"Inf\", \"inf\"]\n",
    ")"
   ]
  },
  {
   "cell_type": "code",
   "execution_count": 219,
   "metadata": {},
   "outputs": [],
   "source": [
    "#@dask.delayed()\n",
    "def IO_orb(orbdata,io='I') -> pd.DataFrame:\n",
    "    minalt = orbdata['alt'].min()\n",
    "    peri_t = orbdata[orbdata['alt']==minalt]['t_unix'].unique()\n",
    "    #if len(peri_t)>1:\n",
    "    #    sys.exit('Non-unique time found at periapse '+str(orbdata['orbit'].unique()))\n",
    "    #else:\n",
    "    if io == 'I':\n",
    "        return orbdata[orbdata['t_unix']<=peri_t[0]]\n",
    "    elif io =='O':\n",
    "        return orbdata[orbdata['t_unix']>peri_t[0]]\n",
    "    else:\n",
    "        return orbdata"
   ]
  },
  {
   "cell_type": "markdown",
   "metadata": {},
   "source": [
    "## Make orbit-filename map\n",
    "\n",
    "For each orbit, get filenames of orbits with +/- x orbits"
   ]
  },
  {
   "cell_type": "code",
   "execution_count": 220,
   "metadata": {},
   "outputs": [
    {
     "name": "stdout",
     "output_type": "stream",
     "text": [
      "CPU times: user 21.9 s, sys: 1.12 s, total: 23 s\n",
      "Wall time: 1min 56s\n"
     ]
    }
   ],
   "source": [
    "%%time\n",
    "orb_path_map = ddf[[\"orbit\", \"path\"]].drop_duplicates().compute()\n",
    "del ddf"
   ]
  },
  {
   "cell_type": "code",
   "execution_count": 221,
   "metadata": {},
   "outputs": [],
   "source": [
    "orb_step = 5\n",
    "orb_orb_map = {x: list(range(x - orb_step, x + orb_step + 1)) for x in orb_path_map[\"orbit\"]}"
   ]
  },
  {
   "cell_type": "code",
   "execution_count": 222,
   "metadata": {},
   "outputs": [
    {
     "name": "stdout",
     "output_type": "stream",
     "text": [
      "CPU times: user 776 ms, sys: 4.71 ms, total: 781 ms\n",
      "Wall time: 754 ms\n"
     ]
    }
   ],
   "source": [
    "%%time\n",
    "orb_filename_map = {\n",
    "    x: orb_path_map[\"path\"][orb_path_map[\"orbit\"].isin(orb_orb_map[x])].tolist() for x in orb_orb_map.keys()\n",
    "}"
   ]
  },
  {
   "cell_type": "code",
   "execution_count": 223,
   "metadata": {},
   "outputs": [],
   "source": [
    "#@dask.delayed()\n",
    "def fit_ratio_alt(df):\n",
    "    x = df[[\"alt\"]]\n",
    "    y = np.log(df[\"N2/Ar\"])\n",
    "    lr = linear_model.LinearRegression()\n",
    "    lr.fit(x, y)\n",
    "    return lr\n",
    "\n",
    "#@dask.delayed()\n",
    "def hp_from_fit(ratio, slope, intercept):\n",
    "    return (np.log(ratio)-intercept)/slope"
   ]
  },
  {
   "cell_type": "code",
   "execution_count": 224,
   "metadata": {},
   "outputs": [],
   "source": [
    "@dask.delayed()\n",
    "def hp_files(files):\n",
    "    temp_ddf = dd.read_csv(\n",
    "        files, \n",
    "        assume_missing=True, \n",
    "        usecols=[\"orbit\", \"alt\", \"species\", \"abundance\", \"t_unix\"],\n",
    "        dtype=meta_cols,\n",
    "        na_values = [\" \", \"-999\", np.inf, \"Inf\", \"inf\"]\n",
    "    )\n",
    "    temp_ddf = temp_ddf.map_partitions(IO_orb, meta=temp_ddf)\n",
    "    temp_ddf = temp_ddf[(temp_ddf[\"abundance\"] > 0.) & (temp_ddf[\"alt\"] < 250) & (temp_ddf[\"species\"].isin([\"Ar\", \"N2\"]))]\n",
    "    df = temp_ddf.compute()\n",
    "    #temp_ddf = temp_ddf.set_index('orbit', sorted=True, drop=False)\n",
    "    #temp_ddf.reset_index(drop=True)\n",
    "    norbs = len(df[\"orbit\"].unique())\n",
    "    df = df.pivot_table(values=[\"abundance\"], index=[\"orbit\",\"alt\", \"species\"]).unstack()\n",
    "    df[\"N2/Ar\"] = df[\"abundance\"][\"N2\"] / df[\"abundance\"][\"Ar\"]\n",
    "    df = df[\"N2/Ar\"].reset_index().dropna(subset=[\"alt\", \"N2/Ar\"])\n",
    "    try:\n",
    "        fit = fit_ratio_alt(df)\n",
    "    except ValueError:\n",
    "        return {\"hp_alt\": np.nan, \"fit_slope\": np.nan, \"fit_intercept\": np.nan, \"n_orbits\": norbs}\n",
    "    hp = hp_from_fit(1.25, fit.coef_[0], fit.intercept_)\n",
    "    hp_res = {\"hp_alt\": hp, \"fit_slope\": fit.coef_[0], \"fit_intercept\": fit.intercept_, \"n_orbits\": norbs}\n",
    "    return hp_res"
   ]
  },
  {
   "cell_type": "code",
   "execution_count": 225,
   "metadata": {},
   "outputs": [
    {
     "name": "stdout",
     "output_type": "stream",
     "text": [
      "CPU times: user 88.8 ms, sys: 4.3 ms, total: 93.1 ms\n",
      "Wall time: 86.7 ms\n"
     ]
    }
   ],
   "source": [
    "%%time\n",
    "results_hp = []\n",
    "results_orb = []\n",
    "for orb, files in orb_filename_map.items():\n",
    "    results_orb.append(orb)\n",
    "    res_single = hp_files(files)\n",
    "    results_hp.append(res_single)"
   ]
  },
  {
   "cell_type": "code",
   "execution_count": 226,
   "metadata": {},
   "outputs": [
    {
     "name": "stdout",
     "output_type": "stream",
     "text": [
      "CPU times: user 1min 46s, sys: 7.1 s, total: 1min 53s\n",
      "Wall time: 15min 43s\n"
     ]
    }
   ],
   "source": [
    "%%time\n",
    "results = dask.compute(*results_hp)"
   ]
  },
  {
   "cell_type": "code",
   "execution_count": 227,
   "metadata": {},
   "outputs": [
    {
     "name": "stdout",
     "output_type": "stream",
     "text": [
      "CPU times: user 5.44 ms, sys: 99 µs, total: 5.54 ms\n",
      "Wall time: 5.06 ms\n"
     ]
    }
   ],
   "source": [
    "%%time\n",
    "res_df = pd.DataFrame(results)\n",
    "res_df[\"orbit\"] = results_orb"
   ]
  },
  {
   "cell_type": "code",
   "execution_count": 228,
   "metadata": {},
   "outputs": [
    {
     "data": {
      "text/html": [
       "<div>\n",
       "<style scoped>\n",
       "    .dataframe tbody tr th:only-of-type {\n",
       "        vertical-align: middle;\n",
       "    }\n",
       "\n",
       "    .dataframe tbody tr th {\n",
       "        vertical-align: top;\n",
       "    }\n",
       "\n",
       "    .dataframe thead th {\n",
       "        text-align: right;\n",
       "    }\n",
       "</style>\n",
       "<table border=\"1\" class=\"dataframe\">\n",
       "  <thead>\n",
       "    <tr style=\"text-align: right;\">\n",
       "      <th></th>\n",
       "      <th>hp_alt</th>\n",
       "      <th>fit_slope</th>\n",
       "      <th>fit_intercept</th>\n",
       "      <th>n_orbits</th>\n",
       "    </tr>\n",
       "    <tr>\n",
       "      <th>orbit</th>\n",
       "      <th></th>\n",
       "      <th></th>\n",
       "      <th></th>\n",
       "      <th></th>\n",
       "    </tr>\n",
       "  </thead>\n",
       "  <tbody>\n",
       "    <tr>\n",
       "      <th>8306</th>\n",
       "      <td>102.628482</td>\n",
       "      <td>0.034582</td>\n",
       "      <td>-3.325963</td>\n",
       "      <td>4</td>\n",
       "    </tr>\n",
       "    <tr>\n",
       "      <th>8307</th>\n",
       "      <td>106.224089</td>\n",
       "      <td>0.037310</td>\n",
       "      <td>-3.740060</td>\n",
       "      <td>5</td>\n",
       "    </tr>\n",
       "    <tr>\n",
       "      <th>8308</th>\n",
       "      <td>106.613691</td>\n",
       "      <td>0.037671</td>\n",
       "      <td>-3.793144</td>\n",
       "      <td>6</td>\n",
       "    </tr>\n",
       "    <tr>\n",
       "      <th>8311</th>\n",
       "      <td>107.644581</td>\n",
       "      <td>0.038315</td>\n",
       "      <td>-3.901257</td>\n",
       "      <td>9</td>\n",
       "    </tr>\n",
       "    <tr>\n",
       "      <th>8312</th>\n",
       "      <td>102.628505</td>\n",
       "      <td>0.035211</td>\n",
       "      <td>-3.390477</td>\n",
       "      <td>9</td>\n",
       "    </tr>\n",
       "    <tr>\n",
       "      <th>...</th>\n",
       "      <td>...</td>\n",
       "      <td>...</td>\n",
       "      <td>...</td>\n",
       "      <td>...</td>\n",
       "    </tr>\n",
       "    <tr>\n",
       "      <th>10629</th>\n",
       "      <td>95.870800</td>\n",
       "      <td>0.022710</td>\n",
       "      <td>-1.954083</td>\n",
       "      <td>10</td>\n",
       "    </tr>\n",
       "    <tr>\n",
       "      <th>10630</th>\n",
       "      <td>95.586664</td>\n",
       "      <td>0.022672</td>\n",
       "      <td>-1.943978</td>\n",
       "      <td>9</td>\n",
       "    </tr>\n",
       "    <tr>\n",
       "      <th>10631</th>\n",
       "      <td>93.280291</td>\n",
       "      <td>0.022258</td>\n",
       "      <td>-1.853080</td>\n",
       "      <td>8</td>\n",
       "    </tr>\n",
       "    <tr>\n",
       "      <th>10632</th>\n",
       "      <td>89.310874</td>\n",
       "      <td>0.021562</td>\n",
       "      <td>-1.702554</td>\n",
       "      <td>7</td>\n",
       "    </tr>\n",
       "    <tr>\n",
       "      <th>10634</th>\n",
       "      <td>91.260308</td>\n",
       "      <td>0.021938</td>\n",
       "      <td>-1.778891</td>\n",
       "      <td>5</td>\n",
       "    </tr>\n",
       "  </tbody>\n",
       "</table>\n",
       "<p>1809 rows × 4 columns</p>\n",
       "</div>"
      ],
      "text/plain": [
       "           hp_alt  fit_slope  fit_intercept  n_orbits\n",
       "orbit                                                \n",
       "8306   102.628482   0.034582      -3.325963         4\n",
       "8307   106.224089   0.037310      -3.740060         5\n",
       "8308   106.613691   0.037671      -3.793144         6\n",
       "8311   107.644581   0.038315      -3.901257         9\n",
       "8312   102.628505   0.035211      -3.390477         9\n",
       "...           ...        ...            ...       ...\n",
       "10629   95.870800   0.022710      -1.954083        10\n",
       "10630   95.586664   0.022672      -1.943978         9\n",
       "10631   93.280291   0.022258      -1.853080         8\n",
       "10632   89.310874   0.021562      -1.702554         7\n",
       "10634   91.260308   0.021938      -1.778891         5\n",
       "\n",
       "[1809 rows x 4 columns]"
      ]
     },
     "execution_count": 228,
     "metadata": {},
     "output_type": "execute_result"
    }
   ],
   "source": [
    "res_df.set_index(\"orbit\")"
   ]
  },
  {
   "cell_type": "code",
   "execution_count": 229,
   "metadata": {},
   "outputs": [
    {
     "data": {
      "text/plain": [
       "1.75"
      ]
     },
     "execution_count": 229,
     "metadata": {},
     "output_type": "execute_result"
    }
   ],
   "source": [
    "21 * 5 / 60"
   ]
  },
  {
   "cell_type": "code",
   "execution_count": 230,
   "metadata": {},
   "outputs": [],
   "source": [
    "import matplotlib.pyplot as plt"
   ]
  },
  {
   "cell_type": "code",
   "execution_count": 236,
   "metadata": {},
   "outputs": [
    {
     "data": {
      "image/png": "[encoded data removed]",
      "text/plain": [
       "<Figure size 432x288 with 1 Axes>"
      ]
     },
     "metadata": {
      "needs_background": "light"
     },
     "output_type": "display_data"
    }
   ],
   "source": [
    "plt.figure()\n",
    "plt.plot(res_df[\"orbit\"], res_df[\"hp_alt\"])\n",
    "plt.ylim(ymax=150)\n",
    "plt.show()"
   ]
  },
  {
   "cell_type": "code",
   "execution_count": 232,
   "metadata": {},
   "outputs": [],
   "source": [
    "res_df.to_csv(f\"../output/{year}_hp.csv\", index=False)"
   ]
  },
  {
   "cell_type": "code",
   "execution_count": 237,
   "metadata": {},
   "outputs": [
    {
     "data": {
      "text/html": [
       "<div>\n",
       "<style scoped>\n",
       "    .dataframe tbody tr th:only-of-type {\n",
       "        vertical-align: middle;\n",
       "    }\n",
       "\n",
       "    .dataframe tbody tr th {\n",
       "        vertical-align: top;\n",
       "    }\n",
       "\n",
       "    .dataframe thead th {\n",
       "        text-align: right;\n",
       "    }\n",
       "</style>\n",
       "<table border=\"1\" class=\"dataframe\">\n",
       "  <thead>\n",
       "    <tr style=\"text-align: right;\">\n",
       "      <th></th>\n",
       "      <th>hp_alt</th>\n",
       "      <th>fit_slope</th>\n",
       "      <th>fit_intercept</th>\n",
       "      <th>n_orbits</th>\n",
       "      <th>orbit</th>\n",
       "    </tr>\n",
       "  </thead>\n",
       "  <tbody>\n",
       "  </tbody>\n",
       "</table>\n",
       "</div>"
      ],
      "text/plain": [
       "Empty DataFrame\n",
       "Columns: [hp_alt, fit_slope, fit_intercept, n_orbits, orbit]\n",
       "Index: []"
      ]
     },
     "execution_count": 237,
     "metadata": {},
     "output_type": "execute_result"
    }
   ],
   "source": [
    "res_df[res_df[\"hp_alt\"].isnull()]"
   ]
  },
  {
   "cell_type": "code",
   "execution_count": 190,
   "metadata": {},
   "outputs": [
    {
     "data": {
      "text/html": [
       "<div>\n",
       "<style scoped>\n",
       "    .dataframe tbody tr th:only-of-type {\n",
       "        vertical-align: middle;\n",
       "    }\n",
       "\n",
       "    .dataframe tbody tr th {\n",
       "        vertical-align: top;\n",
       "    }\n",
       "\n",
       "    .dataframe thead th {\n",
       "        text-align: right;\n",
       "    }\n",
       "</style>\n",
       "<table border=\"1\" class=\"dataframe\">\n",
       "  <thead>\n",
       "    <tr style=\"text-align: right;\">\n",
       "      <th></th>\n",
       "      <th>hp_alt</th>\n",
       "      <th>fit_slope</th>\n",
       "      <th>fit_intercept</th>\n",
       "      <th>n_orbits</th>\n",
       "      <th>orbit</th>\n",
       "    </tr>\n",
       "  </thead>\n",
       "  <tbody>\n",
       "    <tr>\n",
       "      <th>1390</th>\n",
       "      <td>111.021294</td>\n",
       "      <td>0.027549</td>\n",
       "      <td>-2.835332</td>\n",
       "      <td>1</td>\n",
       "      <td>29514</td>\n",
       "    </tr>\n",
       "  </tbody>\n",
       "</table>\n",
       "</div>"
      ],
      "text/plain": [
       "          hp_alt  fit_slope  fit_intercept  n_orbits  orbit\n",
       "1390  111.021294   0.027549      -2.835332         1  29514"
      ]
     },
     "execution_count": 190,
     "metadata": {},
     "output_type": "execute_result"
    }
   ],
   "source": [
    "res_df[res_df[\"orbit\"] > 10000]"
   ]
  },
  {
   "cell_type": "code",
   "execution_count": 214,
   "metadata": {},
   "outputs": [
    {
     "name": "stdout",
     "output_type": "stream",
     "text": [
      "/home/marek/maven/data/sci/ngi/l2/2018/11/mvn_ngi_l2_csn-abund-29514_20181107T071715_v08_r01.csv\n"
     ]
    }
   ],
   "source": [
    "print(orb_path_map[orb_path_map[\"orbit\"] == 29514][\"path\"].item())"
   ]
  },
  {
   "cell_type": "code",
   "execution_count": 239,
   "metadata": {},
   "outputs": [],
   "source": [
    "pieces = []\n",
    "for data in [f\"../output/{x}_hp.csv\" for x in [2015, 2016, 2017, 2018, 2019]]:\n",
    "    pieces.append(pd.read_csv(data))\n",
    "hp_data = pd.concat(pieces)"
   ]
  },
  {
   "cell_type": "code",
   "execution_count": 247,
   "metadata": {},
   "outputs": [],
   "source": [
    "hp_data = hp_data[hp_data[\"n_orbits\"] == 11]"
   ]
  },
  {
   "cell_type": "code",
   "execution_count": 263,
   "metadata": {},
   "outputs": [
    {
     "data": {
      "image/png": "[encoded data removed]",
      "text/plain": [
       "<Figure size 864x720 with 1 Axes>"
      ]
     },
     "metadata": {
      "needs_background": "light"
     },
     "output_type": "display_data"
    }
   ],
   "source": [
    "plt.figure(figsize=(12, 10))\n",
    "plt.scatter(hp_data[\"orbit\"], hp_data[\"hp_alt\"], s=10)\n",
    "plt.ylim(ymax=140)\n",
    "plt.xlim(500,11000)\n",
    "plt.show()"
   ]
  },
  {
   "cell_type": "code",
   "execution_count": 250,
   "metadata": {},
   "outputs": [
    {
     "data": {
      "text/html": [
       "<div>\n",
       "<style scoped>\n",
       "    .dataframe tbody tr th:only-of-type {\n",
       "        vertical-align: middle;\n",
       "    }\n",
       "\n",
       "    .dataframe tbody tr th {\n",
       "        vertical-align: top;\n",
       "    }\n",
       "\n",
       "    .dataframe thead th {\n",
       "        text-align: right;\n",
       "    }\n",
       "</style>\n",
       "<table border=\"1\" class=\"dataframe\">\n",
       "  <thead>\n",
       "    <tr style=\"text-align: right;\">\n",
       "      <th></th>\n",
       "      <th>hp_alt</th>\n",
       "      <th>fit_slope</th>\n",
       "      <th>fit_intercept</th>\n",
       "      <th>n_orbits</th>\n",
       "      <th>orbit</th>\n",
       "    </tr>\n",
       "  </thead>\n",
       "  <tbody>\n",
       "    <tr>\n",
       "      <th>590</th>\n",
       "      <td>147.665317</td>\n",
       "      <td>0.020202</td>\n",
       "      <td>-2.760057</td>\n",
       "      <td>11</td>\n",
       "      <td>1664</td>\n",
       "    </tr>\n",
       "    <tr>\n",
       "      <th>591</th>\n",
       "      <td>146.297245</td>\n",
       "      <td>0.018843</td>\n",
       "      <td>-2.533565</td>\n",
       "      <td>11</td>\n",
       "      <td>1665</td>\n",
       "    </tr>\n",
       "    <tr>\n",
       "      <th>592</th>\n",
       "      <td>148.773420</td>\n",
       "      <td>0.022122</td>\n",
       "      <td>-3.068029</td>\n",
       "      <td>11</td>\n",
       "      <td>1666</td>\n",
       "    </tr>\n",
       "    <tr>\n",
       "      <th>593</th>\n",
       "      <td>149.653864</td>\n",
       "      <td>0.022922</td>\n",
       "      <td>-3.207250</td>\n",
       "      <td>11</td>\n",
       "      <td>1667</td>\n",
       "    </tr>\n",
       "    <tr>\n",
       "      <th>594</th>\n",
       "      <td>150.514882</td>\n",
       "      <td>0.023540</td>\n",
       "      <td>-3.320017</td>\n",
       "      <td>11</td>\n",
       "      <td>1668</td>\n",
       "    </tr>\n",
       "    <tr>\n",
       "      <th>595</th>\n",
       "      <td>149.727412</td>\n",
       "      <td>0.021896</td>\n",
       "      <td>-3.055308</td>\n",
       "      <td>11</td>\n",
       "      <td>1669</td>\n",
       "    </tr>\n",
       "    <tr>\n",
       "      <th>596</th>\n",
       "      <td>151.993601</td>\n",
       "      <td>0.024092</td>\n",
       "      <td>-3.438681</td>\n",
       "      <td>11</td>\n",
       "      <td>1670</td>\n",
       "    </tr>\n",
       "    <tr>\n",
       "      <th>597</th>\n",
       "      <td>151.370230</td>\n",
       "      <td>0.022181</td>\n",
       "      <td>-3.134400</td>\n",
       "      <td>11</td>\n",
       "      <td>1671</td>\n",
       "    </tr>\n",
       "    <tr>\n",
       "      <th>598</th>\n",
       "      <td>151.959191</td>\n",
       "      <td>0.021463</td>\n",
       "      <td>-3.038427</td>\n",
       "      <td>11</td>\n",
       "      <td>1672</td>\n",
       "    </tr>\n",
       "    <tr>\n",
       "      <th>599</th>\n",
       "      <td>152.191269</td>\n",
       "      <td>0.022884</td>\n",
       "      <td>-3.259532</td>\n",
       "      <td>11</td>\n",
       "      <td>1673</td>\n",
       "    </tr>\n",
       "    <tr>\n",
       "      <th>600</th>\n",
       "      <td>151.057225</td>\n",
       "      <td>0.022855</td>\n",
       "      <td>-3.229293</td>\n",
       "      <td>11</td>\n",
       "      <td>1674</td>\n",
       "    </tr>\n",
       "  </tbody>\n",
       "</table>\n",
       "</div>"
      ],
      "text/plain": [
       "         hp_alt  fit_slope  fit_intercept  n_orbits  orbit\n",
       "590  147.665317   0.020202      -2.760057        11   1664\n",
       "591  146.297245   0.018843      -2.533565        11   1665\n",
       "592  148.773420   0.022122      -3.068029        11   1666\n",
       "593  149.653864   0.022922      -3.207250        11   1667\n",
       "594  150.514882   0.023540      -3.320017        11   1668\n",
       "595  149.727412   0.021896      -3.055308        11   1669\n",
       "596  151.993601   0.024092      -3.438681        11   1670\n",
       "597  151.370230   0.022181      -3.134400        11   1671\n",
       "598  151.959191   0.021463      -3.038427        11   1672\n",
       "599  152.191269   0.022884      -3.259532        11   1673\n",
       "600  151.057225   0.022855      -3.229293        11   1674"
      ]
     },
     "execution_count": 250,
     "metadata": {},
     "output_type": "execute_result"
    }
   ],
   "source": [
    "hp_data[hp_data[\"hp_alt\"] > 140]"
   ]
  },
  {
   "cell_type": "code",
   "execution_count": null,
   "metadata": {},
   "outputs": [],
   "source": []
  }
 ],
 "metadata": {
  "kernelspec": {
   "display_name": "Python 3",
   "language": "python",
   "name": "python3"
  },
  "language_info": {
   "codemirror_mode": {
    "name": "ipython",
    "version": 3
   },
   "file_extension": ".py",
   "mimetype": "text/x-python",
   "name": "python",
   "nbconvert_exporter": "python",
   "pygments_lexer": "ipython3",
   "version": "3.7.5"
  }
 },
 "nbformat": 4,
 "nbformat_minor": 4
}
