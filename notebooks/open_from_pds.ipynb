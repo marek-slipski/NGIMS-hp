{
 "cells": [
  {
   "cell_type": "code",
   "execution_count": 137,
   "metadata": {},
   "outputs": [],
   "source": [
    "import pandas as pd\n",
    "import numpy as np\n",
    "\n",
    "import matplotlib.pyplot as plt"
   ]
  },
  {
   "cell_type": "code",
   "execution_count": 138,
   "metadata": {},
   "outputs": [],
   "source": [
    "base_url = \"https://atmos.nmsu.edu/PDS/data/PDS4/MAVEN/ngims_bundle/l2\"\n",
    "vers = 8\n",
    "rev = 1\n"
   ]
  },
  {
   "cell_type": "code",
   "execution_count": 139,
   "metadata": {},
   "outputs": [],
   "source": [
    "def make_month_url(year, month, base_url=base_url):\n",
    "    return f\"{base_url}/{year}/{str(month).zfill(2)}/\"\n",
    "\n"
   ]
  },
  {
   "cell_type": "code",
   "execution_count": 148,
   "metadata": {},
   "outputs": [
    {
     "data": {
      "text/plain": "'https://atmos.nmsu.edu/PDS/data/PDS4/MAVEN/ngims_bundle/l2/2020/06/'"
     },
     "execution_count": 148,
     "metadata": {},
     "output_type": "execute_result"
    }
   ],
   "source": [
    "#month_url = make_month_url(2015, 9)\n",
    "#month_url = make_month_url(2015, 4)\n",
    "month_url = make_month_url(2020, 6)\n",
    "month_url_2 = make_month_url(2020, 7)\n",
    "month_url"
   ]
  },
  {
   "cell_type": "code",
   "execution_count": 149,
   "metadata": {},
   "outputs": [],
   "source": [
    "import requests\n",
    "from bs4 import  BeautifulSoup"
   ]
  },
  {
   "cell_type": "code",
   "execution_count": 150,
   "metadata": {},
   "outputs": [],
   "source": [
    "def get_all_csv_filenames(url):\n",
    "    req = requests.get(url)\n",
    "    soup=BeautifulSoup(req.text)\n",
    "    return [s for s in [x[\"href\"] for x in soup.find_all(\"a\", href=True)] if \"csv\" in s]\n",
    "\n",
    "def create_csv_urls(month_url, filenames):\n",
    "    return [month_url+f for f in filenames]\n"
   ]
  },
  {
   "cell_type": "code",
   "execution_count": 151,
   "metadata": {},
   "outputs": [
    {
     "data": {
      "text/plain": "316"
     },
     "execution_count": 151,
     "metadata": {},
     "output_type": "execute_result"
    }
   ],
   "source": [
    "ion_files = [x for x in get_all_csv_filenames(month_url) if \"ion\" in x]\n",
    "ion_files_2 = [x for x in get_all_csv_filenames(month_url_2) if \"ion\" in x]\n",
    "ion_urls = create_csv_urls(month_url, ion_files)\n",
    "ion_urls_2 = create_csv_urls(month_url_2, ion_files_2)\n",
    "ion_urls = ion_urls + ion_urls_2\n",
    "len(ion_urls)"
   ]
  },
  {
   "cell_type": "code",
   "execution_count": 153,
   "metadata": {},
   "outputs": [],
   "source": [
    "dfs = []\n",
    "for f in ion_urls:\n",
    "    df = pd.read_csv(f,na_values=[' ','NaN']).drop_duplicates()\n",
    "    dfs.append(df)"
   ]
  },
  {
   "cell_type": "code",
   "execution_count": 154,
   "metadata": {},
   "outputs": [],
   "source": [
    "all_ion = pd.concat(dfs, ignore_index=True)"
   ]
  },
  {
   "cell_type": "code",
   "execution_count": 155,
   "metadata": {},
   "outputs": [
    {
     "data": {
      "text/html": "<div>\n<style scoped>\n    .dataframe tbody tr th:only-of-type {\n        vertical-align: middle;\n    }\n\n    .dataframe tbody tr th {\n        vertical-align: top;\n    }\n\n    .dataframe thead th {\n        text-align: right;\n    }\n</style>\n<table border=\"1\" class=\"dataframe\">\n  <thead>\n    <tr style=\"text-align: right;\">\n      <th></th>\n      <th>t_utc</th>\n      <th>t_unix</th>\n      <th>t_sclk</th>\n      <th>t_tid</th>\n      <th>tid</th>\n      <th>orbit</th>\n      <th>focusmode</th>\n      <th>alt</th>\n      <th>lst</th>\n      <th>long</th>\n      <th>lat</th>\n      <th>sza</th>\n      <th>ion_mass</th>\n      <th>cps_dt</th>\n      <th>abundance</th>\n      <th>sensitivity</th>\n      <th>SC_potential</th>\n      <th>precision</th>\n      <th>quality</th>\n    </tr>\n  </thead>\n  <tbody>\n    <tr>\n      <th>0</th>\n      <td>2020-06-01T03:26:58</td>\n      <td>1.590982e+09</td>\n      <td>6.442539e+08</td>\n      <td>3707.483498</td>\n      <td>36790</td>\n      <td>11645</td>\n      <td>osion</td>\n      <td>443.6544</td>\n      <td>15.431110</td>\n      <td>-49.72621</td>\n      <td>27.03815</td>\n      <td>63.99323</td>\n      <td>2.0</td>\n      <td>592.665819</td>\n      <td>0.754302</td>\n      <td>550</td>\n      <td>-1.140906</td>\n      <td>0.041077</td>\n      <td>SCP</td>\n    </tr>\n    <tr>\n      <th>1</th>\n      <td>2020-06-01T03:27:04</td>\n      <td>1.590982e+09</td>\n      <td>6.442539e+08</td>\n      <td>3713.483498</td>\n      <td>36790</td>\n      <td>11645</td>\n      <td>osion</td>\n      <td>439.1295</td>\n      <td>15.438610</td>\n      <td>-49.63964</td>\n      <td>26.71275</td>\n      <td>63.90654</td>\n      <td>2.0</td>\n      <td>222.264248</td>\n      <td>0.282882</td>\n      <td>550</td>\n      <td>-0.941559</td>\n      <td>0.067076</td>\n      <td>SCP</td>\n    </tr>\n    <tr>\n      <th>2</th>\n      <td>2020-06-01T03:27:07</td>\n      <td>1.590982e+09</td>\n      <td>6.442539e+08</td>\n      <td>3716.483498</td>\n      <td>36790</td>\n      <td>11645</td>\n      <td>osion</td>\n      <td>436.8781</td>\n      <td>15.442220</td>\n      <td>-49.59649</td>\n      <td>26.54973</td>\n      <td>63.86199</td>\n      <td>2.0</td>\n      <td>481.557712</td>\n      <td>0.612892</td>\n      <td>550</td>\n      <td>-0.954433</td>\n      <td>0.045570</td>\n      <td>SCP</td>\n    </tr>\n    <tr>\n      <th>3</th>\n      <td>2020-06-01T03:27:10</td>\n      <td>1.590982e+09</td>\n      <td>6.442539e+08</td>\n      <td>3719.483498</td>\n      <td>36790</td>\n      <td>11645</td>\n      <td>osion</td>\n      <td>434.6341</td>\n      <td>15.445830</td>\n      <td>-49.55343</td>\n      <td>26.38648</td>\n      <td>63.81768</td>\n      <td>2.0</td>\n      <td>481.557712</td>\n      <td>0.612892</td>\n      <td>550</td>\n      <td>-1.022935</td>\n      <td>0.045570</td>\n      <td>SCP</td>\n    </tr>\n    <tr>\n      <th>4</th>\n      <td>2020-06-01T03:27:13</td>\n      <td>1.590982e+09</td>\n      <td>6.442539e+08</td>\n      <td>3722.483498</td>\n      <td>36790</td>\n      <td>11645</td>\n      <td>osion</td>\n      <td>432.3975</td>\n      <td>15.449440</td>\n      <td>-49.51047</td>\n      <td>26.22302</td>\n      <td>63.77362</td>\n      <td>2.0</td>\n      <td>222.264248</td>\n      <td>0.282882</td>\n      <td>550</td>\n      <td>-1.040295</td>\n      <td>0.067076</td>\n      <td>SCP</td>\n    </tr>\n    <tr>\n      <th>...</th>\n      <td>...</td>\n      <td>...</td>\n      <td>...</td>\n      <td>...</td>\n      <td>...</td>\n      <td>...</td>\n      <td>...</td>\n      <td>...</td>\n      <td>...</td>\n      <td>...</td>\n      <td>...</td>\n      <td>...</td>\n      <td>...</td>\n      <td>...</td>\n      <td>...</td>\n      <td>...</td>\n      <td>...</td>\n      <td>...</td>\n      <td>...</td>\n    </tr>\n    <tr>\n      <th>3956010</th>\n      <td>2020-08-01T00:20:13</td>\n      <td>1.596241e+09</td>\n      <td>6.495131e+08</td>\n      <td>4343.302762</td>\n      <td>37602</td>\n      <td>12051</td>\n      <td>osion</td>\n      <td>208.2332</td>\n      <td>8.379167</td>\n      <td>124.23840</td>\n      <td>53.48809</td>\n      <td>90.35409</td>\n      <td>57.0</td>\n      <td>37.039747</td>\n      <td>0.067345</td>\n      <td>550</td>\n      <td>0.000000</td>\n      <td>0.164311</td>\n      <td>SCP</td>\n    </tr>\n    <tr>\n      <th>3956011</th>\n      <td>2020-08-01T00:21:20</td>\n      <td>1.596241e+09</td>\n      <td>6.495131e+08</td>\n      <td>4410.302762</td>\n      <td>37602</td>\n      <td>12051</td>\n      <td>osion</td>\n      <td>207.0555</td>\n      <td>8.571111</td>\n      <td>126.84760</td>\n      <td>49.57996</td>\n      <td>86.37685</td>\n      <td>59.0</td>\n      <td>37.039747</td>\n      <td>0.067345</td>\n      <td>550</td>\n      <td>0.000000</td>\n      <td>0.164311</td>\n      <td>SCP</td>\n    </tr>\n    <tr>\n      <th>3956012</th>\n      <td>2020-08-01T00:22:13</td>\n      <td>1.596241e+09</td>\n      <td>6.495132e+08</td>\n      <td>4463.302762</td>\n      <td>37602</td>\n      <td>12051</td>\n      <td>osion</td>\n      <td>209.9540</td>\n      <td>8.702222</td>\n      <td>128.60080</td>\n      <td>46.44340</td>\n      <td>83.23187</td>\n      <td>59.0</td>\n      <td>37.039747</td>\n      <td>0.067345</td>\n      <td>550</td>\n      <td>0.000000</td>\n      <td>0.164311</td>\n      <td>SCP</td>\n    </tr>\n    <tr>\n      <th>3956013</th>\n      <td>2020-08-01T00:24:08</td>\n      <td>1.596241e+09</td>\n      <td>6.495133e+08</td>\n      <td>4578.302762</td>\n      <td>37602</td>\n      <td>12051</td>\n      <td>osion</td>\n      <td>227.8301</td>\n      <td>8.940278</td>\n      <td>131.70490</td>\n      <td>39.56912</td>\n      <td>76.44766</td>\n      <td>129.0</td>\n      <td>37.039747</td>\n      <td>0.067354</td>\n      <td>550</td>\n      <td>0.000000</td>\n      <td>0.164311</td>\n      <td>SCP</td>\n    </tr>\n    <tr>\n      <th>3956014</th>\n      <td>2020-08-01T00:21:27</td>\n      <td>1.596241e+09</td>\n      <td>6.495131e+08</td>\n      <td>4417.302762</td>\n      <td>37602</td>\n      <td>12051</td>\n      <td>osion</td>\n      <td>207.2443</td>\n      <td>8.589444</td>\n      <td>127.09340</td>\n      <td>49.16758</td>\n      <td>85.96073</td>\n      <td>132.0</td>\n      <td>37.039747</td>\n      <td>0.068372</td>\n      <td>550</td>\n      <td>0.000000</td>\n      <td>0.164311</td>\n      <td>SCP</td>\n    </tr>\n  </tbody>\n</table>\n<p>3956015 rows × 19 columns</p>\n</div>",
      "text/plain": "                       t_utc        t_unix        t_sclk        t_tid    tid  \\\n0        2020-06-01T03:26:58  1.590982e+09  6.442539e+08  3707.483498  36790   \n1        2020-06-01T03:27:04  1.590982e+09  6.442539e+08  3713.483498  36790   \n2        2020-06-01T03:27:07  1.590982e+09  6.442539e+08  3716.483498  36790   \n3        2020-06-01T03:27:10  1.590982e+09  6.442539e+08  3719.483498  36790   \n4        2020-06-01T03:27:13  1.590982e+09  6.442539e+08  3722.483498  36790   \n...                      ...           ...           ...          ...    ...   \n3956010  2020-08-01T00:20:13  1.596241e+09  6.495131e+08  4343.302762  37602   \n3956011  2020-08-01T00:21:20  1.596241e+09  6.495131e+08  4410.302762  37602   \n3956012  2020-08-01T00:22:13  1.596241e+09  6.495132e+08  4463.302762  37602   \n3956013  2020-08-01T00:24:08  1.596241e+09  6.495133e+08  4578.302762  37602   \n3956014  2020-08-01T00:21:27  1.596241e+09  6.495131e+08  4417.302762  37602   \n\n         orbit focusmode       alt        lst       long       lat       sza  \\\n0        11645     osion  443.6544  15.431110  -49.72621  27.03815  63.99323   \n1        11645     osion  439.1295  15.438610  -49.63964  26.71275  63.90654   \n2        11645     osion  436.8781  15.442220  -49.59649  26.54973  63.86199   \n3        11645     osion  434.6341  15.445830  -49.55343  26.38648  63.81768   \n4        11645     osion  432.3975  15.449440  -49.51047  26.22302  63.77362   \n...        ...       ...       ...        ...        ...       ...       ...   \n3956010  12051     osion  208.2332   8.379167  124.23840  53.48809  90.35409   \n3956011  12051     osion  207.0555   8.571111  126.84760  49.57996  86.37685   \n3956012  12051     osion  209.9540   8.702222  128.60080  46.44340  83.23187   \n3956013  12051     osion  227.8301   8.940278  131.70490  39.56912  76.44766   \n3956014  12051     osion  207.2443   8.589444  127.09340  49.16758  85.96073   \n\n         ion_mass      cps_dt  abundance  sensitivity  SC_potential  \\\n0             2.0  592.665819   0.754302          550     -1.140906   \n1             2.0  222.264248   0.282882          550     -0.941559   \n2             2.0  481.557712   0.612892          550     -0.954433   \n3             2.0  481.557712   0.612892          550     -1.022935   \n4             2.0  222.264248   0.282882          550     -1.040295   \n...           ...         ...        ...          ...           ...   \n3956010      57.0   37.039747   0.067345          550      0.000000   \n3956011      59.0   37.039747   0.067345          550      0.000000   \n3956012      59.0   37.039747   0.067345          550      0.000000   \n3956013     129.0   37.039747   0.067354          550      0.000000   \n3956014     132.0   37.039747   0.068372          550      0.000000   \n\n         precision quality  \n0         0.041077     SCP  \n1         0.067076     SCP  \n2         0.045570     SCP  \n3         0.045570     SCP  \n4         0.067076     SCP  \n...            ...     ...  \n3956010   0.164311     SCP  \n3956011   0.164311     SCP  \n3956012   0.164311     SCP  \n3956013   0.164311     SCP  \n3956014   0.164311     SCP  \n\n[3956015 rows x 19 columns]"
     },
     "execution_count": 155,
     "metadata": {},
     "output_type": "execute_result"
    }
   ],
   "source": [
    "all_ion"
   ]
  },
  {
   "cell_type": "code",
   "execution_count": 156,
   "metadata": {},
   "outputs": [
    {
     "data": {
      "text/html": "<div>\n<style scoped>\n    .dataframe tbody tr th:only-of-type {\n        vertical-align: middle;\n    }\n\n    .dataframe tbody tr th {\n        vertical-align: top;\n    }\n\n    .dataframe thead th {\n        text-align: right;\n    }\n</style>\n<table border=\"1\" class=\"dataframe\">\n  <thead>\n    <tr style=\"text-align: right;\">\n      <th></th>\n      <th>index</th>\n      <th>t_utc</th>\n      <th>t_unix</th>\n      <th>t_sclk</th>\n      <th>t_tid</th>\n      <th>tid</th>\n      <th>orbit</th>\n      <th>focusmode</th>\n      <th>alt</th>\n      <th>lst</th>\n      <th>long</th>\n      <th>lat</th>\n      <th>sza</th>\n      <th>ion_mass</th>\n      <th>cps_dt</th>\n      <th>abundance</th>\n      <th>sensitivity</th>\n      <th>SC_potential</th>\n      <th>precision</th>\n      <th>quality</th>\n    </tr>\n  </thead>\n  <tbody>\n    <tr>\n      <th>0</th>\n      <td>12046</td>\n      <td>2020-06-01T03:27:04</td>\n      <td>1.590982e+09</td>\n      <td>6.442539e+08</td>\n      <td>3713.483498</td>\n      <td>36790</td>\n      <td>11645</td>\n      <td>osion</td>\n      <td>439.1295</td>\n      <td>15.438610</td>\n      <td>-49.63964</td>\n      <td>26.712750</td>\n      <td>63.90654</td>\n      <td>44.0</td>\n      <td>3592.676578</td>\n      <td>4.572497</td>\n      <td>550</td>\n      <td>-0.941559</td>\n      <td>0.016684</td>\n      <td>SCP</td>\n    </tr>\n    <tr>\n      <th>1</th>\n      <td>12047</td>\n      <td>2020-06-01T03:27:07</td>\n      <td>1.590982e+09</td>\n      <td>6.442539e+08</td>\n      <td>3716.483498</td>\n      <td>36790</td>\n      <td>11645</td>\n      <td>osion</td>\n      <td>436.8781</td>\n      <td>15.442220</td>\n      <td>-49.59649</td>\n      <td>26.549730</td>\n      <td>63.86199</td>\n      <td>44.0</td>\n      <td>3148.206209</td>\n      <td>4.006808</td>\n      <td>550</td>\n      <td>-0.954433</td>\n      <td>0.017822</td>\n      <td>SCP</td>\n    </tr>\n    <tr>\n      <th>2</th>\n      <td>12048</td>\n      <td>2020-06-01T03:27:10</td>\n      <td>1.590982e+09</td>\n      <td>6.442539e+08</td>\n      <td>3719.483498</td>\n      <td>36790</td>\n      <td>11645</td>\n      <td>osion</td>\n      <td>434.6341</td>\n      <td>15.445830</td>\n      <td>-49.55343</td>\n      <td>26.386480</td>\n      <td>63.81768</td>\n      <td>44.0</td>\n      <td>3740.762846</td>\n      <td>4.760971</td>\n      <td>550</td>\n      <td>-1.022935</td>\n      <td>0.016350</td>\n      <td>SCP</td>\n    </tr>\n    <tr>\n      <th>3</th>\n      <td>12049</td>\n      <td>2020-06-01T03:27:13</td>\n      <td>1.590982e+09</td>\n      <td>6.442539e+08</td>\n      <td>3722.483498</td>\n      <td>36790</td>\n      <td>11645</td>\n      <td>osion</td>\n      <td>432.3975</td>\n      <td>15.449440</td>\n      <td>-49.51047</td>\n      <td>26.223020</td>\n      <td>63.77362</td>\n      <td>44.0</td>\n      <td>3592.676578</td>\n      <td>4.572497</td>\n      <td>550</td>\n      <td>-1.040295</td>\n      <td>0.016684</td>\n      <td>SCP</td>\n    </tr>\n    <tr>\n      <th>4</th>\n      <td>12050</td>\n      <td>2020-06-01T03:27:16</td>\n      <td>1.590982e+09</td>\n      <td>6.442539e+08</td>\n      <td>3725.483498</td>\n      <td>36790</td>\n      <td>11645</td>\n      <td>osion</td>\n      <td>430.1684</td>\n      <td>15.453330</td>\n      <td>-49.46759</td>\n      <td>26.059330</td>\n      <td>63.73300</td>\n      <td>44.0</td>\n      <td>3444.487853</td>\n      <td>4.383893</td>\n      <td>550</td>\n      <td>-1.041872</td>\n      <td>0.017039</td>\n      <td>SCP</td>\n    </tr>\n    <tr>\n      <th>...</th>\n      <td>...</td>\n      <td>...</td>\n      <td>...</td>\n      <td>...</td>\n      <td>...</td>\n      <td>...</td>\n      <td>...</td>\n      <td>...</td>\n      <td>...</td>\n      <td>...</td>\n      <td>...</td>\n      <td>...</td>\n      <td>...</td>\n      <td>...</td>\n      <td>...</td>\n      <td>...</td>\n      <td>...</td>\n      <td>...</td>\n      <td>...</td>\n      <td>...</td>\n    </tr>\n    <tr>\n      <th>120662</th>\n      <td>3955056</td>\n      <td>2020-08-01T00:33:28</td>\n      <td>1.596242e+09</td>\n      <td>6.495139e+08</td>\n      <td>5138.302762</td>\n      <td>37602</td>\n      <td>12051</td>\n      <td>osion</td>\n      <td>519.9426</td>\n      <td>9.657500</td>\n      <td>140.19180</td>\n      <td>7.468127</td>\n      <td>46.39190</td>\n      <td>44.0</td>\n      <td>185.254347</td>\n      <td>0.336826</td>\n      <td>550</td>\n      <td>-1.022676</td>\n      <td>0.073471</td>\n      <td>SCP</td>\n    </tr>\n    <tr>\n      <th>120663</th>\n      <td>3955057</td>\n      <td>2020-08-01T00:33:31</td>\n      <td>1.596242e+09</td>\n      <td>6.495139e+08</td>\n      <td>5141.302762</td>\n      <td>37602</td>\n      <td>12051</td>\n      <td>osion</td>\n      <td>522.2781</td>\n      <td>9.660278</td>\n      <td>140.22280</td>\n      <td>7.309772</td>\n      <td>46.25325</td>\n      <td>44.0</td>\n      <td>37.039747</td>\n      <td>0.067345</td>\n      <td>550</td>\n      <td>-0.998186</td>\n      <td>0.164311</td>\n      <td>SCP</td>\n    </tr>\n    <tr>\n      <th>120664</th>\n      <td>3955058</td>\n      <td>2020-08-01T00:33:34</td>\n      <td>1.596242e+09</td>\n      <td>6.495139e+08</td>\n      <td>5144.302762</td>\n      <td>37602</td>\n      <td>12051</td>\n      <td>osion</td>\n      <td>524.6202</td>\n      <td>9.663056</td>\n      <td>140.25360</td>\n      <td>7.151601</td>\n      <td>46.11483</td>\n      <td>44.0</td>\n      <td>37.039747</td>\n      <td>0.067345</td>\n      <td>550</td>\n      <td>-0.875234</td>\n      <td>0.164311</td>\n      <td>SCP</td>\n    </tr>\n    <tr>\n      <th>120665</th>\n      <td>3955059</td>\n      <td>2020-08-01T00:33:37</td>\n      <td>1.596242e+09</td>\n      <td>6.495139e+08</td>\n      <td>5147.302762</td>\n      <td>37602</td>\n      <td>12051</td>\n      <td>osion</td>\n      <td>526.9690</td>\n      <td>9.666111</td>\n      <td>140.28440</td>\n      <td>6.993615</td>\n      <td>45.97363</td>\n      <td>44.0</td>\n      <td>111.195882</td>\n      <td>0.202174</td>\n      <td>550</td>\n      <td>-0.753348</td>\n      <td>0.094832</td>\n      <td>SCP</td>\n    </tr>\n    <tr>\n      <th>120666</th>\n      <td>3955060</td>\n      <td>2020-08-01T00:33:43</td>\n      <td>1.596242e+09</td>\n      <td>6.495139e+08</td>\n      <td>5153.302762</td>\n      <td>37602</td>\n      <td>12051</td>\n      <td>osion</td>\n      <td>531.6861</td>\n      <td>9.671667</td>\n      <td>140.34560</td>\n      <td>6.678203</td>\n      <td>45.69797</td>\n      <td>44.0</td>\n      <td>185.254347</td>\n      <td>0.336826</td>\n      <td>550</td>\n      <td>-0.579809</td>\n      <td>0.073471</td>\n      <td>SCP</td>\n    </tr>\n  </tbody>\n</table>\n<p>120667 rows × 20 columns</p>\n</div>",
      "text/plain": "          index                t_utc        t_unix        t_sclk        t_tid  \\\n0         12046  2020-06-01T03:27:04  1.590982e+09  6.442539e+08  3713.483498   \n1         12047  2020-06-01T03:27:07  1.590982e+09  6.442539e+08  3716.483498   \n2         12048  2020-06-01T03:27:10  1.590982e+09  6.442539e+08  3719.483498   \n3         12049  2020-06-01T03:27:13  1.590982e+09  6.442539e+08  3722.483498   \n4         12050  2020-06-01T03:27:16  1.590982e+09  6.442539e+08  3725.483498   \n...         ...                  ...           ...           ...          ...   \n120662  3955056  2020-08-01T00:33:28  1.596242e+09  6.495139e+08  5138.302762   \n120663  3955057  2020-08-01T00:33:31  1.596242e+09  6.495139e+08  5141.302762   \n120664  3955058  2020-08-01T00:33:34  1.596242e+09  6.495139e+08  5144.302762   \n120665  3955059  2020-08-01T00:33:37  1.596242e+09  6.495139e+08  5147.302762   \n120666  3955060  2020-08-01T00:33:43  1.596242e+09  6.495139e+08  5153.302762   \n\n          tid  orbit focusmode       alt        lst       long        lat  \\\n0       36790  11645     osion  439.1295  15.438610  -49.63964  26.712750   \n1       36790  11645     osion  436.8781  15.442220  -49.59649  26.549730   \n2       36790  11645     osion  434.6341  15.445830  -49.55343  26.386480   \n3       36790  11645     osion  432.3975  15.449440  -49.51047  26.223020   \n4       36790  11645     osion  430.1684  15.453330  -49.46759  26.059330   \n...       ...    ...       ...       ...        ...        ...        ...   \n120662  37602  12051     osion  519.9426   9.657500  140.19180   7.468127   \n120663  37602  12051     osion  522.2781   9.660278  140.22280   7.309772   \n120664  37602  12051     osion  524.6202   9.663056  140.25360   7.151601   \n120665  37602  12051     osion  526.9690   9.666111  140.28440   6.993615   \n120666  37602  12051     osion  531.6861   9.671667  140.34560   6.678203   \n\n             sza  ion_mass       cps_dt  abundance  sensitivity  SC_potential  \\\n0       63.90654      44.0  3592.676578   4.572497          550     -0.941559   \n1       63.86199      44.0  3148.206209   4.006808          550     -0.954433   \n2       63.81768      44.0  3740.762846   4.760971          550     -1.022935   \n3       63.77362      44.0  3592.676578   4.572497          550     -1.040295   \n4       63.73300      44.0  3444.487853   4.383893          550     -1.041872   \n...          ...       ...          ...        ...          ...           ...   \n120662  46.39190      44.0   185.254347   0.336826          550     -1.022676   \n120663  46.25325      44.0    37.039747   0.067345          550     -0.998186   \n120664  46.11483      44.0    37.039747   0.067345          550     -0.875234   \n120665  45.97363      44.0   111.195882   0.202174          550     -0.753348   \n120666  45.69797      44.0   185.254347   0.336826          550     -0.579809   \n\n        precision quality  \n0        0.016684     SCP  \n1        0.017822     SCP  \n2        0.016350     SCP  \n3        0.016684     SCP  \n4        0.017039     SCP  \n...           ...     ...  \n120662   0.073471     SCP  \n120663   0.164311     SCP  \n120664   0.164311     SCP  \n120665   0.094832     SCP  \n120666   0.073471     SCP  \n\n[120667 rows x 20 columns]"
     },
     "execution_count": 156,
     "metadata": {},
     "output_type": "execute_result"
    }
   ],
   "source": [
    "#tid_start = 17103\n",
    "#tid_end = 17177\n",
    "#tid_start = 15617\n",
    "#tid_end = 15673\n",
    "#tid_start = 25318 - 1 \n",
    "#tid_end = 25400 + 1\n",
    "tid_start = all_ion[\"tid\"].min()\n",
    "tid_end = all_ion[\"tid\"].max()\n",
    "\n",
    "ion_dd4 = all_ion[all_ion[\"tid\"].between(tid_start, tid_end)]\n",
    "ion_dd4_co2 = ion_dd4[ion_dd4[\"ion_mass\"]==44]\n",
    "ion_dd4_co2.reset_index()"
   ]
  },
  {
   "cell_type": "code",
   "execution_count": 157,
   "metadata": {},
   "outputs": [],
   "source": [
    "in_dfs = []\n",
    "for orb_num, orb_data in ion_dd4_co2.groupby(\"orbit\"):\n",
    "    min_alt = orb_data[\"alt\"].min()\n",
    "    min_alt_index = orb_data[\"alt\"].idxmin()\n",
    "    if type(min_alt)==pd.Series:\n",
    "        min_alt = min_alt.iloc[0]\n",
    "    inbound = orb_data[orb_data[\"t_unix\"] <= orb_data.loc[min_alt_index][\"t_unix\"]]\n",
    "    in_dfs.append(inbound)"
   ]
  },
  {
   "cell_type": "code",
   "execution_count": 158,
   "metadata": {},
   "outputs": [],
   "source": [
    "ion_dd4_co2_in = pd.concat(in_dfs)"
   ]
  },
  {
   "cell_type": "code",
   "execution_count": 159,
   "metadata": {},
   "outputs": [
    {
     "data": {
      "text/plain": "orbit\n11645    60.20103\n11647    59.80129\n11648    59.57417\n11649    59.37088\n11650    59.17225\n           ...   \n12046    86.01898\n12047    86.38494\n12049    87.05382\n12050    87.11504\n12051    87.50470\nName: sza, Length: 316, dtype: float64"
     },
     "execution_count": 159,
     "metadata": {},
     "output_type": "execute_result"
    }
   ],
   "source": [
    "ion_dd4_co2_in.groupby(\"orbit\")[\"sza\"].min()"
   ]
  },
  {
   "cell_type": "code",
   "execution_count": 162,
   "metadata": {},
   "outputs": [
    {
     "data": {
      "text/plain": "23"
     },
     "execution_count": 162,
     "metadata": {},
     "output_type": "execute_result"
    }
   ],
   "source": [
    "new_df = []\n",
    "for orb_num, orb_data in ion_dd4_co2_in.groupby(\"orbit\"):\n",
    "    peri = orb_data.loc[orb_data[\"alt\"].idxmin()]\n",
    "    if peri[\"sza\"]>60 and peri[\"sza\"]<66:\n",
    "        new_df.append(orb_data)\n",
    "new_df = pd.concat(new_df)\n",
    "ion_dd4_co2_in = new_df\n",
    "new_df[\"orbit\"].nunique()"
   ]
  },
  {
   "cell_type": "code",
   "execution_count": 163,
   "metadata": {},
   "outputs": [],
   "source": [
    "bins = np.arange(100, 500, 5)\n",
    "bin_mids = (bins[0:-1] + bins[1:])/2\n",
    "ion_dd4_co2_in[\"alt_bin\"] = pd.cut(ion_dd4_co2_in[\"alt\"], bins, labels=bin_mids)"
   ]
  },
  {
   "cell_type": "code",
   "execution_count": 164,
   "metadata": {},
   "outputs": [
    {
     "data": {
      "text/html": "<div>\n<style scoped>\n    .dataframe tbody tr th:only-of-type {\n        vertical-align: middle;\n    }\n\n    .dataframe tbody tr th {\n        vertical-align: top;\n    }\n\n    .dataframe thead th {\n        text-align: right;\n    }\n</style>\n<table border=\"1\" class=\"dataframe\">\n  <thead>\n    <tr style=\"text-align: right;\">\n      <th></th>\n      <th>alt_bin</th>\n      <th>abundance_mean</th>\n      <th>abundance_std</th>\n      <th>abundance_max</th>\n    </tr>\n  </thead>\n  <tbody>\n    <tr>\n      <th>0</th>\n      <td>102.5</td>\n      <td>NaN</td>\n      <td>NaN</td>\n      <td>NaN</td>\n    </tr>\n    <tr>\n      <th>1</th>\n      <td>107.5</td>\n      <td>NaN</td>\n      <td>NaN</td>\n      <td>NaN</td>\n    </tr>\n    <tr>\n      <th>2</th>\n      <td>112.5</td>\n      <td>NaN</td>\n      <td>NaN</td>\n      <td>NaN</td>\n    </tr>\n    <tr>\n      <th>3</th>\n      <td>117.5</td>\n      <td>NaN</td>\n      <td>NaN</td>\n      <td>NaN</td>\n    </tr>\n    <tr>\n      <th>4</th>\n      <td>122.5</td>\n      <td>NaN</td>\n      <td>NaN</td>\n      <td>NaN</td>\n    </tr>\n    <tr>\n      <th>...</th>\n      <td>...</td>\n      <td>...</td>\n      <td>...</td>\n      <td>...</td>\n    </tr>\n    <tr>\n      <th>74</th>\n      <td>472.5</td>\n      <td>NaN</td>\n      <td>NaN</td>\n      <td>NaN</td>\n    </tr>\n    <tr>\n      <th>75</th>\n      <td>477.5</td>\n      <td>NaN</td>\n      <td>NaN</td>\n      <td>NaN</td>\n    </tr>\n    <tr>\n      <th>76</th>\n      <td>482.5</td>\n      <td>NaN</td>\n      <td>NaN</td>\n      <td>NaN</td>\n    </tr>\n    <tr>\n      <th>77</th>\n      <td>487.5</td>\n      <td>NaN</td>\n      <td>NaN</td>\n      <td>NaN</td>\n    </tr>\n    <tr>\n      <th>78</th>\n      <td>492.5</td>\n      <td>NaN</td>\n      <td>NaN</td>\n      <td>NaN</td>\n    </tr>\n  </tbody>\n</table>\n<p>79 rows × 4 columns</p>\n</div>",
      "text/plain": "   alt_bin  abundance_mean  abundance_std  abundance_max\n0    102.5             NaN            NaN            NaN\n1    107.5             NaN            NaN            NaN\n2    112.5             NaN            NaN            NaN\n3    117.5             NaN            NaN            NaN\n4    122.5             NaN            NaN            NaN\n..     ...             ...            ...            ...\n74   472.5             NaN            NaN            NaN\n75   477.5             NaN            NaN            NaN\n76   482.5             NaN            NaN            NaN\n77   487.5             NaN            NaN            NaN\n78   492.5             NaN            NaN            NaN\n\n[79 rows x 4 columns]"
     },
     "execution_count": 164,
     "metadata": {},
     "output_type": "execute_result"
    }
   ],
   "source": [
    "avg = ion_dd4_co2_in[[\"alt_bin\", \"abundance\"]].groupby(\"alt_bin\").mean().rename(columns={\"abundance\": \"abundance_mean\"})\n",
    "std = ion_dd4_co2_in[[\"alt_bin\", \"abundance\"]].groupby(\"alt_bin\").std().rename(columns={\"abundance\": \"abundance_std\"})\n",
    "mx = ion_dd4_co2_in[[\"alt_bin\", \"abundance\"]].groupby(\"alt_bin\").max().rename(columns={\"abundance\": \"abundance_max\"})\n",
    "avg = pd.merge(avg, std, left_index=True, right_index=True)\n",
    "avg = pd.merge(avg, mx, left_index=True, right_index=True)\n",
    "avg = avg.reset_index()\n",
    "avg"
   ]
  },
  {
   "cell_type": "code",
   "execution_count": 165,
   "metadata": {},
   "outputs": [
    {
     "data": {
      "text/plain": "Text(0, 0.5, 'Altitude [km]')"
     },
     "execution_count": 165,
     "metadata": {},
     "output_type": "execute_result"
    },
    {
     "data": {
      "image/png": "[encoded data removed]",
      "text/plain": "<Figure size 640x480 with 1 Axes>"
     },
     "metadata": {},
     "output_type": "display_data"
    }
   ],
   "source": [
    "plt.errorbar(avg[\"abundance_max\"], avg[\"alt_bin\"], xerr=avg[\"abundance_std\"])\n",
    "#plt.plot(ydf[\"CO2+\"], ydf[\"alt\"])\n",
    "plt.xscale(\"log\")\n",
    "plt.ylim(110, 250)\n",
    "plt.xlim(10, 1.e+5)\n",
    "plt.xlabel(r\"Abundance [cm$^{-3}$]\")\n",
    "plt.ylabel(\"Altitude [km]\")"
   ]
  },
  {
   "cell_type": "code",
   "execution_count": 23,
   "metadata": {},
   "outputs": [],
   "source": [
    "avg.dropna().rename(columns={\"alt_bin\": \"altitude\"}).to_csv(\"../../Desktop/DD2_ion_44.csv\", index=False)"
   ]
  },
  {
   "cell_type": "code",
   "execution_count": 24,
   "metadata": {},
   "outputs": [
    {
     "data": {
      "text/plain": [
       "alt_bin             492.500000\n",
       "abundance_mean    17138.561040\n",
       "abundance_std      2630.389334\n",
       "dtype: float64"
      ]
     },
     "execution_count": 24,
     "metadata": {},
     "output_type": "execute_result"
    }
   ],
   "source": [
    "avg.max()"
   ]
  },
  {
   "cell_type": "code",
   "execution_count": 138,
   "metadata": {},
   "outputs": [],
   "source": [
    "ydf = pd.read_csv(\n",
    "    \"../../Desktop/GDrive/data/yoshida_21_ion_densities/NGIMS_ion_neutral_density_variation_dataset/Vertical_profile_of_neutral_ion_density/Vertical_ion_Ls299-310.dat\",\n",
    "    header=1,\n",
    "    names=[\"alt\", \"CO2+\"],\n",
    "    usecols=[0, 1],\n",
    "    delim_whitespace=True\n",
    ")"
   ]
  },
  {
   "cell_type": "code",
   "execution_count": 139,
   "metadata": {},
   "outputs": [
    {
     "data": {
      "text/plain": "Text(0, 0.5, 'Altitude [km]')"
     },
     "execution_count": 139,
     "metadata": {},
     "output_type": "execute_result"
    },
    {
     "data": {
      "image/png": "[encoded data removed]",
      "text/plain": "<Figure size 640x480 with 1 Axes>"
     },
     "metadata": {},
     "output_type": "display_data"
    }
   ],
   "source": [
    "plt.errorbar(avg[\"abundance_mean\"], avg[\"alt_bin\"], xerr=avg[\"abundance_std\"])\n",
    "plt.plot(ydf[\"CO2+\"], ydf[\"alt\"])\n",
    "plt.xscale(\"log\")\n",
    "plt.ylim(110, 250)\n",
    "plt.xlim(10, 1.e+5)\n",
    "plt.xlabel(r\"Abundance [cm$^{-3}$]\")\n",
    "plt.ylabel(\"Altitude [km]\")"
   ]
  },
  {
   "cell_type": "code",
   "execution_count": 136,
   "metadata": {},
   "outputs": [
    {
     "data": {
      "text/plain": "20000.0"
     },
     "execution_count": 136,
     "metadata": {},
     "output_type": "execute_result"
    }
   ],
   "source": [
    "5.e+3 * 4"
   ]
  },
  {
   "cell_type": "code",
   "execution_count": null,
   "metadata": {},
   "outputs": [],
   "source": []
  }
 ],
 "metadata": {
  "kernelspec": {
   "display_name": "Python 3.10.0 64-bit ('env')",
   "metadata": {
    "interpreter": {
     "hash": "6e1874214a16b5290165b6326d313c9225518d2ce2c14dd74eeb6b8b8f0bb056"
    }
   },
   "name": "python3"
  },
  "language_info": {
   "codemirror_mode": {
    "name": "ipython",
    "version": 3
   },
   "file_extension": ".py",
   "mimetype": "text/x-python",
   "name": "python",
   "nbconvert_exporter": "python",
   "pygments_lexer": "ipython3",
   "version": "3.10.0"
  },
  "orig_nbformat": 4
 },
 "nbformat": 4,
 "nbformat_minor": 2
}