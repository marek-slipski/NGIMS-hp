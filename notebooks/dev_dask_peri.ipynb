{
 "cells": [
  {
   "cell_type": "code",
   "execution_count": 212,
   "metadata": {},
   "outputs": [
    {
     "name": "stdout",
     "output_type": "stream",
     "text": [
      "The autoreload extension is already loaded. To reload it, use:\n",
      "  %reload_ext autoreload\n"
     ]
    }
   ],
   "source": [
    "%load_ext autoreload\n",
    "%autoreload 2\n",
    "\n",
    "import dask\n",
    "import dask.dataframe as dd\n",
    "from distributed import Client\n",
    "import glob\n",
    "import pandas as pd\n",
    "from pathlib import Path\n",
    "\n",
    "from global_params import PATH_NGI_L2, NA_VALUES, NGI_L2_V, NGI_L2_R\n",
    "from src.MT import getMTfromTime"
   ]
  },
  {
   "cell_type": "code",
   "execution_count": 203,
   "metadata": {},
   "outputs": [],
   "source": [
    "def peri_rows(orbdata):\n",
    "    minalt = orbdata['alt'].min()\n",
    "    peri_rows = orbdata[orbdata[\"alt\"]==minalt].drop_duplicates()\n",
    "    peri_rows = peri_rows[peri_rows[\"t_utc\"] == peri_rows[\"t_utc\"].min()]\n",
    "    return peri_rows"
   ]
  },
  {
   "cell_type": "code",
   "execution_count": 210,
   "metadata": {},
   "outputs": [],
   "source": [
    "tfile = \"/home/marek/maven/data/sci/ngi/l2/2015/08/mvn_ngi_l2_csn-abund-16836_20150807T134137_v08_r01.csv\""
   ]
  },
  {
   "cell_type": "code",
   "execution_count": 211,
   "metadata": {},
   "outputs": [],
   "source": [
    "cols = [\"t_utc\", \"t_unix\", \"orbit\", \"alt\", \"lst\", \"long\", \"lat\", \"sza\"]\n",
    "df = pd.read_csv(tfile, usecols=cols)"
   ]
  },
  {
   "cell_type": "code",
   "execution_count": 206,
   "metadata": {},
   "outputs": [
    {
     "data": {
      "text/html": [
       "<div>\n",
       "<style scoped>\n",
       "    .dataframe tbody tr th:only-of-type {\n",
       "        vertical-align: middle;\n",
       "    }\n",
       "\n",
       "    .dataframe tbody tr th {\n",
       "        vertical-align: top;\n",
       "    }\n",
       "\n",
       "    .dataframe thead th {\n",
       "        text-align: right;\n",
       "    }\n",
       "</style>\n",
       "<table border=\"1\" class=\"dataframe\">\n",
       "  <thead>\n",
       "    <tr style=\"text-align: right;\">\n",
       "      <th></th>\n",
       "      <th>t_utc</th>\n",
       "      <th>t_unix</th>\n",
       "      <th>orbit</th>\n",
       "      <th>alt</th>\n",
       "      <th>lst</th>\n",
       "      <th>long</th>\n",
       "      <th>lat</th>\n",
       "      <th>sza</th>\n",
       "      <th>Ls</th>\n",
       "    </tr>\n",
       "  </thead>\n",
       "  <tbody>\n",
       "    <tr>\n",
       "      <th>349</th>\n",
       "      <td>2015-08-07T15:13:12</td>\n",
       "      <td>1.438960e+09</td>\n",
       "      <td>1668</td>\n",
       "      <td>146.0152</td>\n",
       "      <td>21.9475</td>\n",
       "      <td>-141.1071</td>\n",
       "      <td>-74.29276</td>\n",
       "      <td>113.4748</td>\n",
       "      <td>24.119434</td>\n",
       "    </tr>\n",
       "  </tbody>\n",
       "</table>\n",
       "</div>"
      ],
      "text/plain": [
       "                   t_utc        t_unix  orbit       alt      lst      long  \\\n",
       "349  2015-08-07T15:13:12  1.438960e+09   1668  146.0152  21.9475 -141.1071   \n",
       "\n",
       "          lat       sza         Ls  \n",
       "349 -74.29276  113.4748  24.119434  "
      ]
     },
     "execution_count": 206,
     "metadata": {},
     "output_type": "execute_result"
    }
   ],
   "source": [
    "newdf = peri_rows(df)\n",
    "dtcol = pd.to_datetime(newdf[\"t_utc\"], format='%Y-%m-%dT%H:%M:%S')\n",
    "newdf[\"Ls\"] = dtcol.apply(getMTfromTime)\n",
    "newdf"
   ]
  },
  {
   "cell_type": "code",
   "execution_count": 207,
   "metadata": {},
   "outputs": [
    {
     "data": {
      "text/plain": [
       "349   2015-08-07 15:13:12\n",
       "Name: t_utc, dtype: datetime64[ns]"
      ]
     },
     "execution_count": 207,
     "metadata": {},
     "output_type": "execute_result"
    }
   ],
   "source": [
    "dtcol"
   ]
  },
  {
   "cell_type": "code",
   "execution_count": 264,
   "metadata": {},
   "outputs": [],
   "source": [
    "tfiles = glob.glob(str(PATH_NGI_L2 / \"*\" / \"*\" / f\"*v{NGI_L2_V}_r{NGI_L2_R}.csv\" ))\n",
    "tfiles = [x for x in tfiles if \"mvn_ngi_l2_csn-abund-29514_20181107T071715_v08_r01.csv\" not in x]"
   ]
  },
  {
   "cell_type": "code",
   "execution_count": 265,
   "metadata": {},
   "outputs": [],
   "source": [
    "meta = {x: float for x in cols}\n",
    "meta[\"t_utc\"] = object\n",
    "meta[\"orbit\"] = int\n",
    "ddf = dd.read_csv(tfiles, assume_missing=True, usecols=cols, dtype=meta, na_values=NA_VALUES)"
   ]
  },
  {
   "cell_type": "code",
   "execution_count": 266,
   "metadata": {},
   "outputs": [
    {
     "name": "stdout",
     "output_type": "stream",
     "text": [
      "8128\n"
     ]
    }
   ],
   "source": [
    "print(ddf.npartitions)"
   ]
  },
  {
   "cell_type": "code",
   "execution_count": 267,
   "metadata": {},
   "outputs": [],
   "source": [
    "newdf = ddf.map_partitions(peri_rows)"
   ]
  },
  {
   "cell_type": "code",
   "execution_count": 268,
   "metadata": {},
   "outputs": [],
   "source": [
    "dtcol = dd.to_datetime(newdf[\"t_utc\"], format='%Y-%m-%dT%H:%M:%S')\n",
    "newdf = newdf.assign(Ls=dtcol.apply(getMTfromTime, meta=float))"
   ]
  },
  {
   "cell_type": "code",
   "execution_count": 269,
   "metadata": {},
   "outputs": [
    {
     "data": {
      "text/html": [
       "<div>\n",
       "<style scoped>\n",
       "    .dataframe tbody tr th:only-of-type {\n",
       "        vertical-align: middle;\n",
       "    }\n",
       "\n",
       "    .dataframe tbody tr th {\n",
       "        vertical-align: top;\n",
       "    }\n",
       "\n",
       "    .dataframe thead th {\n",
       "        text-align: right;\n",
       "    }\n",
       "</style>\n",
       "<table border=\"1\" class=\"dataframe\">\n",
       "  <thead>\n",
       "    <tr style=\"text-align: right;\">\n",
       "      <th></th>\n",
       "      <th>t_utc</th>\n",
       "      <th>t_unix</th>\n",
       "      <th>orbit</th>\n",
       "      <th>alt</th>\n",
       "      <th>lst</th>\n",
       "      <th>long</th>\n",
       "      <th>lat</th>\n",
       "      <th>sza</th>\n",
       "      <th>Ls</th>\n",
       "    </tr>\n",
       "  </thead>\n",
       "  <tbody>\n",
       "    <tr>\n",
       "      <th>330</th>\n",
       "      <td>2018-01-15T15:57:04</td>\n",
       "      <td>1.516032e+09</td>\n",
       "      <td>6408</td>\n",
       "      <td>139.5925</td>\n",
       "      <td>5.435278</td>\n",
       "      <td>-99.40232</td>\n",
       "      <td>-46.33352</td>\n",
       "      <td>111.9924</td>\n",
       "      <td>115.491251</td>\n",
       "    </tr>\n",
       "    <tr>\n",
       "      <th>341</th>\n",
       "      <td>2018-01-09T07:29:13</td>\n",
       "      <td>1.515483e+09</td>\n",
       "      <td>6374</td>\n",
       "      <td>140.3634</td>\n",
       "      <td>6.091389</td>\n",
       "      <td>-23.58109</td>\n",
       "      <td>-41.80220</td>\n",
       "      <td>104.3753</td>\n",
       "      <td>112.564029</td>\n",
       "    </tr>\n",
       "    <tr>\n",
       "      <th>321</th>\n",
       "      <td>2018-01-27T14:53:42</td>\n",
       "      <td>1.517065e+09</td>\n",
       "      <td>6472</td>\n",
       "      <td>139.4950</td>\n",
       "      <td>4.107500</td>\n",
       "      <td>11.27889</td>\n",
       "      <td>-54.66533</td>\n",
       "      <td>123.7902</td>\n",
       "      <td>121.058680</td>\n",
       "    </tr>\n",
       "    <tr>\n",
       "      <th>330</th>\n",
       "      <td>2018-01-22T13:50:52</td>\n",
       "      <td>1.516629e+09</td>\n",
       "      <td>6445</td>\n",
       "      <td>140.0549</td>\n",
       "      <td>4.689167</td>\n",
       "      <td>-12.69832</td>\n",
       "      <td>-51.12552</td>\n",
       "      <td>119.2895</td>\n",
       "      <td>118.700379</td>\n",
       "    </tr>\n",
       "    <tr>\n",
       "      <th>322</th>\n",
       "      <td>2018-01-09T11:58:19</td>\n",
       "      <td>1.515499e+09</td>\n",
       "      <td>6375</td>\n",
       "      <td>139.7262</td>\n",
       "      <td>6.072222</td>\n",
       "      <td>-89.35086</td>\n",
       "      <td>-41.94012</td>\n",
       "      <td>104.6123</td>\n",
       "      <td>112.649850</td>\n",
       "    </tr>\n",
       "  </tbody>\n",
       "</table>\n",
       "</div>"
      ],
      "text/plain": [
       "                   t_utc        t_unix  orbit       alt       lst      long  \\\n",
       "330  2018-01-15T15:57:04  1.516032e+09   6408  139.5925  5.435278 -99.40232   \n",
       "341  2018-01-09T07:29:13  1.515483e+09   6374  140.3634  6.091389 -23.58109   \n",
       "321  2018-01-27T14:53:42  1.517065e+09   6472  139.4950  4.107500  11.27889   \n",
       "330  2018-01-22T13:50:52  1.516629e+09   6445  140.0549  4.689167 -12.69832   \n",
       "322  2018-01-09T11:58:19  1.515499e+09   6375  139.7262  6.072222 -89.35086   \n",
       "\n",
       "          lat       sza          Ls  \n",
       "330 -46.33352  111.9924  115.491251  \n",
       "341 -41.80220  104.3753  112.564029  \n",
       "321 -54.66533  123.7902  121.058680  \n",
       "330 -51.12552  119.2895  118.700379  \n",
       "322 -41.94012  104.6123  112.649850  "
      ]
     },
     "execution_count": 269,
     "metadata": {},
     "output_type": "execute_result"
    }
   ],
   "source": [
    "newdf.head(npartitions=10)"
   ]
  },
  {
   "cell_type": "code",
   "execution_count": 270,
   "metadata": {},
   "outputs": [
    {
     "name": "stdout",
     "output_type": "stream",
     "text": [
      "CPU times: user 7min 39s, sys: 31.4 s, total: 8min 10s\n",
      "Wall time: 3min 4s\n"
     ]
    }
   ],
   "source": [
    "%%time\n",
    "newdf = newdf.compute()"
   ]
  },
  {
   "cell_type": "code",
   "execution_count": 276,
   "metadata": {},
   "outputs": [],
   "source": [
    "newdf.set_index(\"orbit\").sort_index().to_csv(\"../output/peri.csv\")"
   ]
  },
  {
   "cell_type": "code",
   "execution_count": null,
   "metadata": {},
   "outputs": [],
   "source": []
  }
 ],
 "metadata": {
  "kernelspec": {
   "display_name": "Python 3",
   "language": "python",
   "name": "python3"
  },
  "language_info": {
   "codemirror_mode": {
    "name": "ipython",
    "version": 3
   },
   "file_extension": ".py",
   "mimetype": "text/x-python",
   "name": "python",
   "nbconvert_exporter": "python",
   "pygments_lexer": "ipython3",
   "version": "3.7.5"
  }
 },
 "nbformat": 4,
 "nbformat_minor": 4
}
