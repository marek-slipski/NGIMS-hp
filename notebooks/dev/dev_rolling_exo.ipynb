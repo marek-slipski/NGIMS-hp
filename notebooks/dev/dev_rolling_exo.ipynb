{
 "cells": [
  {
   "cell_type": "code",
   "execution_count": 9,
   "metadata": {},
   "outputs": [
    {
     "name": "stdout",
     "output_type": "stream",
     "text": [
      "The autoreload extension is already loaded. To reload it, use:\n",
      "  %reload_ext autoreload\n"
     ]
    },
    {
     "name": "stderr",
     "output_type": "stream",
     "text": [
      "/home/marek/NGIMS-hp/env/lib/python3.8/site-packages/distributed/node.py:240: UserWarning: Port 8787 is already in use.\n",
      "Perhaps you already have a cluster running?\n",
      "Hosting the HTTP server on port 41305 instead\n",
      "  warnings.warn(\n"
     ]
    }
   ],
   "source": [
    "%load_ext autoreload\n",
    "%autoreload 2\n",
    "\n",
    "import dask\n",
    "import dask.dataframe as dd\n",
    "import glob\n",
    "import pandas as pd\n",
    "from pathlib import Path \n",
    "\n",
    "import numpy as np\n",
    "import scipy.stats as sps\n",
    "from sklearn import linear_model\n",
    "\n",
    "from distributed import Client\n",
    "client = Client()"
   ]
  },
  {
   "cell_type": "code",
   "execution_count": 10,
   "metadata": {},
   "outputs": [],
   "source": [
    "PATH_MAVEN = Path(\"/home/marek\")\n",
    "PATH_NGI = Path(PATH_MAVEN) / \"maven\" / \"data\" / \"sci\" / \"ngi\"\n",
    "PATH_NGI_L2 = Path(PATH_NGI) / \"l2\"\n",
    "\n",
    "NA_VALUES = [\" \", \"-999\", np.inf, \"Inf\", \"inf\"]"
   ]
  },
  {
   "cell_type": "code",
   "execution_count": 11,
   "metadata": {},
   "outputs": [],
   "source": [
    "year = 2015"
   ]
  },
  {
   "cell_type": "code",
   "execution_count": 12,
   "metadata": {},
   "outputs": [],
   "source": [
    "test_dir = Path(PATH_NGI_L2, f\"{year}/02/*02[0-2][1-9]*.csv\")"
   ]
  },
  {
   "cell_type": "code",
   "execution_count": 13,
   "metadata": {},
   "outputs": [],
   "source": [
    "meta_cols = {\n",
    "    \"orbit\": int,\n",
    "    \"alt\": float,\n",
    "    \"species\": str,\n",
    "    \"abundance\": float,\n",
    "    \"t_unix\": float\n",
    "}"
   ]
  },
  {
   "cell_type": "code",
   "execution_count": 14,
   "metadata": {},
   "outputs": [],
   "source": [
    "ddf = dd.read_csv(\n",
    "    test_dir, \n",
    "    assume_missing=True, \n",
    "    usecols=[\"orbit\", \"alt\", \"species\", \"abundance\", \"t_unix\"],\n",
    "    include_path_column=True,\n",
    "    dtype=meta_cols,\n",
    "    na_values = [\" \", \"-999\", np.inf, \"Inf\", \"inf\"]\n",
    ")"
   ]
  },
  {
   "cell_type": "code",
   "execution_count": 15,
   "metadata": {},
   "outputs": [
    {
     "data": {
      "text/html": [
       "<div>\n",
       "<style scoped>\n",
       "    .dataframe tbody tr th:only-of-type {\n",
       "        vertical-align: middle;\n",
       "    }\n",
       "\n",
       "    .dataframe tbody tr th {\n",
       "        vertical-align: top;\n",
       "    }\n",
       "\n",
       "    .dataframe thead th {\n",
       "        text-align: right;\n",
       "    }\n",
       "</style>\n",
       "<table border=\"1\" class=\"dataframe\">\n",
       "  <thead>\n",
       "    <tr style=\"text-align: right;\">\n",
       "      <th></th>\n",
       "      <th>t_unix</th>\n",
       "      <th>orbit</th>\n",
       "      <th>alt</th>\n",
       "      <th>species</th>\n",
       "      <th>abundance</th>\n",
       "      <th>path</th>\n",
       "    </tr>\n",
       "  </thead>\n",
       "  <tbody>\n",
       "    <tr>\n",
       "      <th>0</th>\n",
       "      <td>1.423626e+09</td>\n",
       "      <td>713</td>\n",
       "      <td>495.0434</td>\n",
       "      <td>Ar</td>\n",
       "      <td>0.0</td>\n",
       "      <td>/home/marek/maven/data/sci/ngi/l2/2015/02/mvn_...</td>\n",
       "    </tr>\n",
       "    <tr>\n",
       "      <th>1</th>\n",
       "      <td>1.423626e+09</td>\n",
       "      <td>713</td>\n",
       "      <td>493.1250</td>\n",
       "      <td>Ar</td>\n",
       "      <td>0.0</td>\n",
       "      <td>/home/marek/maven/data/sci/ngi/l2/2015/02/mvn_...</td>\n",
       "    </tr>\n",
       "    <tr>\n",
       "      <th>2</th>\n",
       "      <td>1.423626e+09</td>\n",
       "      <td>713</td>\n",
       "      <td>491.2105</td>\n",
       "      <td>Ar</td>\n",
       "      <td>0.0</td>\n",
       "      <td>/home/marek/maven/data/sci/ngi/l2/2015/02/mvn_...</td>\n",
       "    </tr>\n",
       "    <tr>\n",
       "      <th>3</th>\n",
       "      <td>1.423626e+09</td>\n",
       "      <td>713</td>\n",
       "      <td>489.2999</td>\n",
       "      <td>Ar</td>\n",
       "      <td>0.0</td>\n",
       "      <td>/home/marek/maven/data/sci/ngi/l2/2015/02/mvn_...</td>\n",
       "    </tr>\n",
       "    <tr>\n",
       "      <th>4</th>\n",
       "      <td>1.423626e+09</td>\n",
       "      <td>713</td>\n",
       "      <td>487.3931</td>\n",
       "      <td>Ar</td>\n",
       "      <td>0.0</td>\n",
       "      <td>/home/marek/maven/data/sci/ngi/l2/2015/02/mvn_...</td>\n",
       "    </tr>\n",
       "  </tbody>\n",
       "</table>\n",
       "</div>"
      ],
      "text/plain": [
       "         t_unix  orbit       alt species  abundance  \\\n",
       "0  1.423626e+09    713  495.0434      Ar        0.0   \n",
       "1  1.423626e+09    713  493.1250      Ar        0.0   \n",
       "2  1.423626e+09    713  491.2105      Ar        0.0   \n",
       "3  1.423626e+09    713  489.2999      Ar        0.0   \n",
       "4  1.423626e+09    713  487.3931      Ar        0.0   \n",
       "\n",
       "                                                path  \n",
       "0  /home/marek/maven/data/sci/ngi/l2/2015/02/mvn_...  \n",
       "1  /home/marek/maven/data/sci/ngi/l2/2015/02/mvn_...  \n",
       "2  /home/marek/maven/data/sci/ngi/l2/2015/02/mvn_...  \n",
       "3  /home/marek/maven/data/sci/ngi/l2/2015/02/mvn_...  \n",
       "4  /home/marek/maven/data/sci/ngi/l2/2015/02/mvn_...  "
      ]
     },
     "execution_count": 15,
     "metadata": {},
     "output_type": "execute_result"
    }
   ],
   "source": [
    "ddf.head()"
   ]
  },
  {
   "cell_type": "code",
   "execution_count": 16,
   "metadata": {},
   "outputs": [],
   "source": [
    "temp_ddf = dd.read_csv(\n",
    "    test_dir, \n",
    "    assume_missing=True, \n",
    "    usecols=list(meta_cols.keys()),\n",
    "    dtype=meta_cols,\n",
    "    na_values = NA_VALUES\n",
    ")"
   ]
  },
  {
   "cell_type": "code",
   "execution_count": 17,
   "metadata": {},
   "outputs": [
    {
     "data": {
      "text/html": [
       "<div>\n",
       "<style scoped>\n",
       "    .dataframe tbody tr th:only-of-type {\n",
       "        vertical-align: middle;\n",
       "    }\n",
       "\n",
       "    .dataframe tbody tr th {\n",
       "        vertical-align: top;\n",
       "    }\n",
       "\n",
       "    .dataframe thead th {\n",
       "        text-align: right;\n",
       "    }\n",
       "</style>\n",
       "<table border=\"1\" class=\"dataframe\">\n",
       "  <thead>\n",
       "    <tr style=\"text-align: right;\">\n",
       "      <th></th>\n",
       "      <th>t_unix</th>\n",
       "      <th>orbit</th>\n",
       "      <th>alt</th>\n",
       "      <th>species</th>\n",
       "      <th>abundance</th>\n",
       "    </tr>\n",
       "  </thead>\n",
       "  <tbody>\n",
       "    <tr>\n",
       "      <th>0</th>\n",
       "      <td>1.423626e+09</td>\n",
       "      <td>713</td>\n",
       "      <td>495.0434</td>\n",
       "      <td>Ar</td>\n",
       "      <td>0.0</td>\n",
       "    </tr>\n",
       "    <tr>\n",
       "      <th>1</th>\n",
       "      <td>1.423626e+09</td>\n",
       "      <td>713</td>\n",
       "      <td>493.1250</td>\n",
       "      <td>Ar</td>\n",
       "      <td>0.0</td>\n",
       "    </tr>\n",
       "    <tr>\n",
       "      <th>2</th>\n",
       "      <td>1.423626e+09</td>\n",
       "      <td>713</td>\n",
       "      <td>491.2105</td>\n",
       "      <td>Ar</td>\n",
       "      <td>0.0</td>\n",
       "    </tr>\n",
       "    <tr>\n",
       "      <th>3</th>\n",
       "      <td>1.423626e+09</td>\n",
       "      <td>713</td>\n",
       "      <td>489.2999</td>\n",
       "      <td>Ar</td>\n",
       "      <td>0.0</td>\n",
       "    </tr>\n",
       "    <tr>\n",
       "      <th>4</th>\n",
       "      <td>1.423626e+09</td>\n",
       "      <td>713</td>\n",
       "      <td>487.3931</td>\n",
       "      <td>Ar</td>\n",
       "      <td>0.0</td>\n",
       "    </tr>\n",
       "  </tbody>\n",
       "</table>\n",
       "</div>"
      ],
      "text/plain": [
       "         t_unix  orbit       alt species  abundance\n",
       "0  1.423626e+09    713  495.0434      Ar        0.0\n",
       "1  1.423626e+09    713  493.1250      Ar        0.0\n",
       "2  1.423626e+09    713  491.2105      Ar        0.0\n",
       "3  1.423626e+09    713  489.2999      Ar        0.0\n",
       "4  1.423626e+09    713  487.3931      Ar        0.0"
      ]
     },
     "execution_count": 17,
     "metadata": {},
     "output_type": "execute_result"
    }
   ],
   "source": [
    "temp_ddf.head()"
   ]
  },
  {
   "cell_type": "code",
   "execution_count": 18,
   "metadata": {},
   "outputs": [],
   "source": [
    "def make_orbit_path_map(ddf, orb_span):\n",
    "    orb_path_map = ddf[[\"orbit\", \"path\"]].drop_duplicates().compute()\n",
    "    orb_orb_map = {\n",
    "        x: list(\n",
    "            range(x - orb_span//2, x + orb_span//2 + 1)\n",
    "        ) for x in orb_path_map[\"orbit\"]\n",
    "    }\n",
    "    orb_filename_map = {\n",
    "        x: orb_path_map[\"path\"][orb_path_map[\"orbit\"].isin(orb_orb_map[x])].tolist() \n",
    "        for x in orb_orb_map.keys()\n",
    "}\n",
    "    return orb_filename_map\n",
    "\n",
    "def IO_orb(orbdata,io='I') -> pd.DataFrame:\n",
    "    minalt = orbdata['alt'].min()\n",
    "    peri_t = orbdata[orbdata['alt']==minalt]['t_unix'].unique()\n",
    "    #if len(peri_t)>1:\n",
    "    #    sys.exit('Non-unique time found at periapse '+str(orbdata['orbit'].unique()))\n",
    "    #else:\n",
    "    if io == 'I':\n",
    "        return orbdata[orbdata['t_unix']<=peri_t[0]]\n",
    "    elif io =='O':\n",
    "        return orbdata[orbdata['t_unix']>peri_t[0]]\n",
    "    else:\n",
    "        return orbdata"
   ]
  },
  {
   "cell_type": "code",
   "execution_count": 19,
   "metadata": {},
   "outputs": [],
   "source": [
    "DEFAULT_ORBIT_SPAN = 10\n",
    "#from src.homopause_rolling_orbits import make_orbit_path_map, IO_orb\n",
    "orb_path_map = make_orbit_path_map(ddf, DEFAULT_ORBIT_SPAN)"
   ]
  },
  {
   "cell_type": "code",
   "execution_count": 20,
   "metadata": {},
   "outputs": [],
   "source": [
    "import scipy.stats as sps\n",
    "import scipy.integrate as spi\n",
    "\n",
    "def exo_Ar_int(CO2,Ar,alt,exsp=['CO2'],ArXsec=[3.e-15],\\\n",
    "           Ntop=[0.,0.],taufrange=[0.,5]):\n",
    "    '''\n",
    "    Calculate exobase altitude from species profiles\n",
    "    (BE SURE TO USE INBOUND)\n",
    "    Integrates down from some initial altitude to periapse\n",
    "    Determines where num_density*coll_x-sec = 1 for exo altitude\n",
    "\n",
    "    Inputs\n",
    "    ------\n",
    "    exsp: list, species to use in calculation\n",
    "    ArXsec: list, collisional cross section for each species in exsp\n",
    "    Ntop: list, column density above top for each species\n",
    "\n",
    "    Outputs\n",
    "    -------\n",
    "    exo: float, exobase altitude\n",
    "    fitTau: fit parameters of Tau profile (see scipy.stats.linregress)\n",
    "\n",
    "\n",
    "    **TO DO:\n",
    "    cite cross section values, should extrapolate ones that don't reac tau=1\n",
    "    '''\n",
    "    #convert alts to cm\n",
    "    #orb_df = orb_df[orb_df['abundance_CO2']>0]\n",
    "    xsec = dict(zip(exsp,ArXsec))\n",
    "    altkm = np.array(alt)*1.e+5\n",
    "    Tau_sp_dz = np.zeros((len(exsp),len(altkm)))  #initialize Tau/z\n",
    "    for i,s in enumerate(xsec): #loop through species to use\n",
    "        #colname = 'abundance_'+s\n",
    "        #if colname in orb_df.columns: #check given species in DF\n",
    "        Tau_sp_dz[i] = CO2*xsec[s] #calc n*sigma\n",
    "        #else:\n",
    "        #    print 'has no column '+colname\n",
    "        #    return np.NaN\n",
    "    Tau_tot_dz = np.sum(Tau_sp_dz,axis=0) #add each sp n*sigma together\n",
    "    Tau_int = spi.cumtrapz(Tau_tot_dz,altkm*-1) #n*dz*sigma=N*sigma=Tau\n",
    "    altmids = ((altkm[1:] + altkm[:-1]) / 2)/1.e+5 #gid mid alts in km\n",
    "    findTau1 = np.where((Tau_int>taufrange[0])&(Tau_int<taufrange[-1])) #cond to find Tau=1\n",
    "    if len(Tau_int[findTau1])<5: #warn if fitting line to only a few pts\n",
    "        if np.max(Tau_int) < 1:\n",
    "            print('Never reaches tau=1, <'+str(int(altmids[-1]))+'?')\n",
    "            return np.NaN, (np.NaN,np.NaN,np.NaN,np.NaN,np.NaN)\n",
    "        else:\n",
    "            print('Has <5 points near tau=',taufrange[0],'-',taufrange[-1])\n",
    "            return np.NaN, (np.NaN,np.NaN,np.NaN,np.NaN,np.NaN)\n",
    "    fitTau = sps.linregress(altmids[findTau1],Tau_int[findTau1])\n",
    "    exo = (1-fitTau[1])/fitTau[0] #find alt where Tau=1\n",
    "    return exo,fitTau #return exobase altitude\n",
    "    "
   ]
  },
  {
   "cell_type": "code",
   "execution_count": 21,
   "metadata": {},
   "outputs": [],
   "source": [
    "@dask.delayed()\n",
    "def exo_files(files):\n",
    "    files = list(files)\n",
    "    temp_ddf = dd.read_csv(\n",
    "        files, \n",
    "        assume_missing=True, \n",
    "        usecols=list(meta_cols.keys()),\n",
    "        dtype=meta_cols,\n",
    "        na_values = NA_VALUES\n",
    "    )\n",
    "    temp_ddf = temp_ddf.map_partitions(IO_orb, meta=temp_ddf)\n",
    "    temp_ddf = temp_ddf[(temp_ddf[\"abundance\"] > 0.) & (temp_ddf[\"species\"].isin([\"Ar\", \"CO2\"]))]\n",
    "    df = temp_ddf.compute()\n",
    "    norbs = len(df[\"orbit\"].unique())\n",
    "    df = df.pivot_table(values=[\"abundance\"], index=[\"orbit\", \"alt\", \"species\"]).unstack()\n",
    "    df = df.dropna()\n",
    "    df = df.droplevel(\"orbit\")\n",
    "    df = df.sort_index(ascending=False)\n",
    "    Ar = df[(\"abundance\", \"Ar\")]\n",
    "    CO2 = df[(\"abundance\", \"CO2\")]\n",
    "    alt = np.array(df.index.tolist())\n",
    "    exo = exo_Ar_int(CO2, Ar, alt, taufrange=[0,2])\n",
    "    return exo, norbs"
   ]
  },
  {
   "cell_type": "code",
   "execution_count": 23,
   "metadata": {},
   "outputs": [
    {
     "name": "stdout",
     "output_type": "stream",
     "text": [
      "173.19189412227917 6\n",
      "173.65741256795874 7\n",
      "172.29558343341944 8\n",
      "171.53465937594896 9\n",
      "172.0272658060411 10\n",
      "172.0601456439167 11\n",
      "174.07249594038854 11\n",
      "174.4775039624486 11\n",
      "173.74230235691297 11\n",
      "172.11633895310348 11\n",
      "174.08245906192252 11\n",
      "173.27734255760842 11\n",
      "173.40123028567618 11\n",
      "175.38015404519822 11\n",
      "175.88402727277904 11\n",
      "175.65744265354223 11\n",
      "177.850961787167 11\n",
      "176.39894205289906 11\n",
      "176.78753162104792 11\n",
      "175.50740422844214 11\n",
      "177.34982646600443 11\n",
      "179.02490860209323 11\n",
      "179.8899209776895 11\n",
      "181.15450277648006 11\n",
      "177.37631366668558 11\n",
      "180.2249370927412 11\n",
      "180.89419953834798 11\n",
      "179.98847204237106 11\n",
      "180.46167142576778 11\n",
      "179.74122579854773 11\n",
      "178.0378753874643 10\n",
      "178.98915313474404 9\n",
      "178.79979446676913 8\n",
      "177.18350005162014 7\n",
      "177.86985595410832 6\n",
      "174.23639961036955 6\n",
      "175.39993970090904 7\n",
      "174.75237944547027 8\n",
      "175.0289590618742 9\n",
      "173.7606193044824 10\n",
      "174.09555039322606 11\n",
      "173.25969639052067 11\n",
      "174.21026825429533 11\n",
      "174.27985217094337 11\n",
      "173.51099091882284 11\n",
      "173.11214357385307 11\n",
      "172.05341438626982 11\n",
      "171.7559907323454 11\n",
      "172.70790908738041 10\n",
      "171.81901385150928 9\n",
      "173.14602979279945 9\n",
      "173.3691382187025 9\n",
      "174.0319501414228 9\n",
      "174.27716560447186 9\n",
      "175.8356021485394 9\n",
      "174.792377573681 9\n",
      "174.1025959123529 9\n",
      "173.78219845228568 10\n",
      "173.79259820845576 11\n",
      "172.4128441171017 11\n",
      "176.02805069117426 11\n",
      "176.10982469385706 11\n",
      "176.82434974540462 11\n",
      "176.22363769690287 11\n",
      "176.0275363045181 10\n",
      "175.05665647753372 9\n",
      "175.53388736844906 9\n",
      "175.05602332178745 9\n",
      "176.42331327892074 9\n",
      "175.8819802652647 8\n",
      "176.21183069829533 7\n",
      "174.51676088983385 6\n",
      "175.66240353841476 5\n",
      "175.66240353841476 5\n"
     ]
    }
   ],
   "source": [
    "for orb, files in orb_path_map.items():\n",
    "    exo, n = exo_files(list(files)).compute()\n",
    "    print(exo[0], n)"
   ]
  },
  {
   "cell_type": "code",
   "execution_count": null,
   "metadata": {},
   "outputs": [],
   "source": []
  },
  {
   "cell_type": "code",
   "execution_count": 15,
   "metadata": {},
   "outputs": [
    {
     "ename": "NameError",
     "evalue": "name 'df' is not defined",
     "output_type": "error",
     "traceback": [
      "\u001b[0;31m---------------------------------------------------------------------------\u001b[0m",
      "\u001b[0;31mNameError\u001b[0m                                 Traceback (most recent call last)",
      "\u001b[0;32m<ipython-input-15-9bb416d45ef6>\u001b[0m in \u001b[0;36m<module>\u001b[0;34m\u001b[0m\n\u001b[0;32m----> 1\u001b[0;31m \u001b[0mdf\u001b[0m\u001b[0;34m.\u001b[0m\u001b[0mcompute\u001b[0m\u001b[0;34m(\u001b[0m\u001b[0;34m)\u001b[0m\u001b[0;34m\u001b[0m\u001b[0;34m\u001b[0m\u001b[0m\n\u001b[0m",
      "\u001b[0;31mNameError\u001b[0m: name 'df' is not defined"
     ]
    }
   ],
   "source": [
    "df.compute()"
   ]
  },
  {
   "cell_type": "code",
   "execution_count": 16,
   "metadata": {},
   "outputs": [
    {
     "ename": "NameError",
     "evalue": "name 'df' is not defined",
     "output_type": "error",
     "traceback": [
      "\u001b[0;31m---------------------------------------------------------------------------\u001b[0m",
      "\u001b[0;31mNameError\u001b[0m                                 Traceback (most recent call last)",
      "\u001b[0;32m<ipython-input-16-0df9ffa0ac22>\u001b[0m in \u001b[0;36m<module>\u001b[0;34m\u001b[0m\n\u001b[0;32m----> 1\u001b[0;31m \u001b[0mdf\u001b[0m\u001b[0;34m.\u001b[0m\u001b[0mget_partition\u001b[0m\u001b[0;34m(\u001b[0m\u001b[0;36m1\u001b[0m\u001b[0;34m)\u001b[0m\u001b[0;34m.\u001b[0m\u001b[0mhead\u001b[0m\u001b[0;34m(\u001b[0m\u001b[0;34m)\u001b[0m\u001b[0;34m\u001b[0m\u001b[0;34m\u001b[0m\u001b[0m\n\u001b[0m",
      "\u001b[0;31mNameError\u001b[0m: name 'df' is not defined"
     ]
    }
   ],
   "source": [
    "df.get_partition(1).head()"
   ]
  },
  {
   "cell_type": "code",
   "execution_count": 17,
   "metadata": {},
   "outputs": [
    {
     "ename": "NameError",
     "evalue": "name 'df' is not defined",
     "output_type": "error",
     "traceback": [
      "\u001b[0;31m---------------------------------------------------------------------------\u001b[0m",
      "\u001b[0;31mNameError\u001b[0m                                 Traceback (most recent call last)",
      "\u001b[0;32m<ipython-input-17-d41e8d09364c>\u001b[0m in \u001b[0;36m<module>\u001b[0;34m\u001b[0m\n\u001b[0;32m----> 1\u001b[0;31m \u001b[0mdf\u001b[0m\u001b[0;34m.\u001b[0m\u001b[0mhead\u001b[0m\u001b[0;34m(\u001b[0m\u001b[0;34m)\u001b[0m\u001b[0;34m.\u001b[0m\u001b[0mcompute\u001b[0m\u001b[0;34m(\u001b[0m\u001b[0;34m)\u001b[0m\u001b[0;34m\u001b[0m\u001b[0;34m\u001b[0m\u001b[0m\n\u001b[0m",
      "\u001b[0;31mNameError\u001b[0m: name 'df' is not defined"
     ]
    }
   ],
   "source": [
    "df.head().compute()"
   ]
  },
  {
   "cell_type": "code",
   "execution_count": null,
   "metadata": {},
   "outputs": [],
   "source": []
  },
  {
   "cell_type": "code",
   "execution_count": null,
   "metadata": {},
   "outputs": [],
   "source": []
  }
 ],
 "metadata": {
  "kernelspec": {
   "display_name": "Python 3",
   "language": "python",
   "name": "python3"
  },
  "language_info": {
   "codemirror_mode": {
    "name": "ipython",
    "version": 3
   },
   "file_extension": ".py",
   "mimetype": "text/x-python",
   "name": "python",
   "nbconvert_exporter": "python",
   "pygments_lexer": "ipython3",
   "version": "3.8.2"
  }
 },
 "nbformat": 4,
 "nbformat_minor": 4
}
